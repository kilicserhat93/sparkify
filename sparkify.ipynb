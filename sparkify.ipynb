{
 "cells": [
  {
   "cell_type": "markdown",
   "metadata": {},
   "source": [
    "# Sparkify Project Workspace\n",
    "This workspace contains a tiny subset (128MB) of the full dataset available (12GB). Feel free to use this workspace to build your project, or to explore a smaller subset with Spark before deploying your cluster on the cloud. Instructions for setting up your Spark cluster is included in the last lesson of the Extracurricular Spark Course content.\n",
    "\n",
    "You can follow the steps below to guide your data analysis and model building portion of this project."
   ]
  },
  {
   "cell_type": "code",
   "execution_count": 1,
   "metadata": {},
   "outputs": [],
   "source": [
    "# import libraries\n",
    "import pyspark\n",
    "from pyspark import SparkConf\n",
    "from pyspark.sql import SparkSession\n",
    "from pyspark.sql.functions import isnan, count, when, col, desc, udf, col, sort_array, asc, avg, to_date\n",
    "from pyspark.sql.functions import sum as Fsum\n",
    "from pyspark.sql.window import Window\n",
    "from pyspark.sql.types import IntegerType\n",
    "from pyspark.sql.types import StringType\n",
    "from pyspark.sql.types import DateType\n",
    "\n",
    "\n",
    "import datetime\n",
    "\n",
    "import numpy as np\n",
    "import pandas as pd\n",
    "%matplotlib inline\n",
    "import matplotlib.pyplot as plt"
   ]
  },
  {
   "cell_type": "code",
   "execution_count": 2,
   "metadata": {},
   "outputs": [],
   "source": [
    "# create a Spark session\n",
    "spark = SparkSession \\\n",
    "    .builder \\\n",
    "    .appName(\"sparkify_project\") \\\n",
    "    .getOrCreate()"
   ]
  },
  {
   "cell_type": "markdown",
   "metadata": {},
   "source": [
    "# Load and Clean Dataset\n",
    "In this workspace, the mini-dataset file is `mini_sparkify_event_data.json`. Load and clean the dataset, checking for invalid or missing data - for example, records without userids or sessionids. "
   ]
  },
  {
   "cell_type": "code",
   "execution_count": 3,
   "metadata": {},
   "outputs": [],
   "source": [
    "#load data\n",
    "path = \"mini_sparkify_event_data.json\"\n",
    "user_log = spark.read.json(path)"
   ]
  },
  {
   "cell_type": "markdown",
   "metadata": {},
   "source": [
    "# Exploratory Data Analysis\n",
    "When you're working with the full dataset, perform EDA by loading a small subset of the data and doing basic manipulations within Spark. In this workspace, you are already provided a small subset of data you can explore.\n",
    "\n",
    "### Define Churn\n",
    "\n",
    "Once you've done some preliminary analysis, create a column `Churn` to use as the label for your model. I suggest using the `Cancellation Confirmation` events to define your churn, which happen for both paid and free users. As a bonus task, you can also look into the `Downgrade` events.\n",
    "\n",
    "### Explore Data\n",
    "Once you've defined churn, perform some exploratory data analysis to observe the behavior for users who stayed vs users who churned. You can start by exploring aggregates on these two groups of users, observing how much of a specific action they experienced per a certain time unit or number of songs played."
   ]
  },
  {
   "cell_type": "markdown",
   "metadata": {},
   "source": [
    "## ** The Problem & Definition of Churn **"
   ]
  },
  {
   "cell_type": "markdown",
   "metadata": {},
   "source": [
    "We are running a music app company. We have users who are using our service. Some users churns(stops using our service).\n",
    "In this work we will try to predict the most risky users who are tend to churn. After we find the risky population we can offer them discount or something else. \n",
    "Let's start by exploring and preparing our data!\n",
    "\n",
    "Note: Churn for us means cancelling the service. In the data, we can see it at \"page\" column, which has value as \"Cancellation Confirmation\".\n",
    "\n",
    "Methods: Because we have labeled data, we will use supervised machine learning algorithms. We will try to predict that whether the user will churn or not. So it is a classification problem. We will find the most effective features which is related to churn. To find them we will run machine learning classification algorithms. We will use algorithms like Logistic Regression, Gradient Boosted Trees and RandomForest to see which gives best result.\n",
    "The number of churned users are very small. So I will use f1 score as main metric."
   ]
  },
  {
   "cell_type": "code",
   "execution_count": null,
   "metadata": {},
   "outputs": [],
   "source": []
  },
  {
   "cell_type": "code",
   "execution_count": 4,
   "metadata": {},
   "outputs": [],
   "source": [
    "# create table data\n",
    "user_log.createOrReplaceTempView(\"user_log_table\")"
   ]
  },
  {
   "cell_type": "code",
   "execution_count": 5,
   "metadata": {
    "collapsed": true
   },
   "outputs": [
    {
     "data": {
      "text/plain": [
       "[Row(artist='Martha Tilston', auth='Logged In', firstName='Colin', gender='M', itemInSession=50, lastName='Freeman', length=277.89016, level='paid', location='Bakersfield, CA', method='PUT', page='NextSong', registration=1538173362000, sessionId=29, song='Rockpools', status=200, ts=1538352117000, userAgent='Mozilla/5.0 (Windows NT 6.1; WOW64; rv:31.0) Gecko/20100101 Firefox/31.0', userId='30')]"
      ]
     },
     "execution_count": 5,
     "metadata": {},
     "output_type": "execute_result"
    }
   ],
   "source": [
    "# looking for a sample data.\n",
    "#user_log.take(5)\n",
    "user_log.take(1)"
   ]
  },
  {
   "cell_type": "code",
   "execution_count": 7,
   "metadata": {},
   "outputs": [
    {
     "name": "stdout",
     "output_type": "stream",
     "text": [
      "286500\n",
      "root\n",
      " |-- artist: string (nullable = true)\n",
      " |-- auth: string (nullable = true)\n",
      " |-- firstName: string (nullable = true)\n",
      " |-- gender: string (nullable = true)\n",
      " |-- itemInSession: long (nullable = true)\n",
      " |-- lastName: string (nullable = true)\n",
      " |-- length: double (nullable = true)\n",
      " |-- level: string (nullable = true)\n",
      " |-- location: string (nullable = true)\n",
      " |-- method: string (nullable = true)\n",
      " |-- page: string (nullable = true)\n",
      " |-- registration: long (nullable = true)\n",
      " |-- sessionId: long (nullable = true)\n",
      " |-- song: string (nullable = true)\n",
      " |-- status: long (nullable = true)\n",
      " |-- ts: long (nullable = true)\n",
      " |-- userAgent: string (nullable = true)\n",
      " |-- userId: string (nullable = true)\n",
      "\n"
     ]
    }
   ],
   "source": [
    "#checking row count, column names and types\n",
    "print(user_log.count())\n",
    "\n",
    "user_log.printSchema()"
   ]
  },
  {
   "cell_type": "code",
   "execution_count": 8,
   "metadata": {},
   "outputs": [
    {
     "data": {
      "text/plain": [
       "DataFrame[artist: string, auth: string, firstName: string, gender: string, itemInSession: bigint, lastName: string, length: double, level: string, location: string, method: string, page: string, registration: bigint, sessionId: bigint, song: string, status: bigint, ts: bigint, userAgent: string, userId: string]"
      ]
     },
     "execution_count": 8,
     "metadata": {},
     "output_type": "execute_result"
    }
   ],
   "source": [
    "#checking duplicated rows\n",
    "user_log.dropDuplicates()"
   ]
  },
  {
   "cell_type": "code",
   "execution_count": null,
   "metadata": {},
   "outputs": [],
   "source": []
  },
  {
   "cell_type": "markdown",
   "metadata": {},
   "source": [
    "## Create Some Functions"
   ]
  },
  {
   "cell_type": "code",
   "execution_count": 9,
   "metadata": {},
   "outputs": [],
   "source": [
    "def check_unique_values_of_column(df, col_name):\n",
    "    '''\n",
    "    inputs: df: the dataframe to check unique values of it.\n",
    "            col_name: the column where to look.\n",
    "            \n",
    "    outputs:df_asc: the first 10 values of column in ascending order\n",
    "            df_desc: the first 10 values of column in descending order\n",
    "    '''\n",
    "    df_asc = df.select(col_name).dropDuplicates().sort(col_name).show(10,False)\n",
    "    df_desc = df.select(col_name).dropDuplicates().sort(desc(col_name)).show(10,False)\n",
    "    return df_asc, df_desc"
   ]
  },
  {
   "cell_type": "code",
   "execution_count": 10,
   "metadata": {},
   "outputs": [],
   "source": [
    "def look_for_specific_value_of_column(df,col,val):\n",
    "    '''\n",
    "        inputs: df: the dataframe to get value.\n",
    "                col: the column of dataframe to look.\n",
    "                val: the value of column to search.\n",
    "        output: the first 5 rows of dataframe with condition.\n",
    "    '''\n",
    "    if val == \"null\":\n",
    "        return df.select([\"artist\", \"userId\", \"sessionId\", \"firstname\", \"page\", \"song\"]).where(df[col].isNull()).take(5)\n",
    "    else:\n",
    "        return df.select([\"artist\", \"userId\", \"sessionId\", \"firstname\", \"page\", \"song\"]).where(df[col] == val).take(5)"
   ]
  },
  {
   "cell_type": "code",
   "execution_count": 11,
   "metadata": {},
   "outputs": [],
   "source": [
    "def get_user_counts_of_categorical_column(tbl,col) :\n",
    "    '''\n",
    "        tbl: name of table to look.\n",
    "        col: name of column to look.\n",
    "        this function returns user counts of the categorical column.\n",
    "    '''\n",
    "    return spark.sql('''\n",
    "          SELECT '''+col+''', count(distinct userId)\n",
    "          FROM '''+tbl+ '''  \n",
    "          group by '''+ col\n",
    "          ).show()"
   ]
  },
  {
   "cell_type": "code",
   "execution_count": 12,
   "metadata": {},
   "outputs": [],
   "source": [
    "def get_count_of_null_value_of_column(tbl,col):\n",
    "    '''\n",
    "        tbl: name of table to look.\n",
    "        col: name of column to look.\n",
    "        this function gets counts of null value of the column.\n",
    "    '''\n",
    "    spark.sql('''\n",
    "          SELECT count(DISTINCT userId), count(userId)\n",
    "          FROM '''+ tbl+'''  \n",
    "          where ''' +col+ ''' is null'''\n",
    "          ).show()"
   ]
  },
  {
   "cell_type": "code",
   "execution_count": 13,
   "metadata": {},
   "outputs": [],
   "source": [
    "def get_count_of_categorical_column(tbl,col):\n",
    "    '''\n",
    "        tbl: name of table to look.\n",
    "        col: name of column to look.\n",
    "        this function gets distinct count of the categorical column.\n",
    "    '''\n",
    "    spark.sql('''\n",
    "          SELECT count(distinct ''' + col + ''' ) \n",
    "          FROM ''' + tbl\n",
    "          ).show()"
   ]
  },
  {
   "cell_type": "markdown",
   "metadata": {},
   "source": [
    "## Check UserId Column"
   ]
  },
  {
   "cell_type": "code",
   "execution_count": 14,
   "metadata": {
    "collapsed": true
   },
   "outputs": [
    {
     "name": "stdout",
     "output_type": "stream",
     "text": [
      "+------+\n",
      "|userId|\n",
      "+------+\n",
      "|      |\n",
      "|10    |\n",
      "|100   |\n",
      "|100001|\n",
      "|100002|\n",
      "|100003|\n",
      "|100004|\n",
      "|100005|\n",
      "|100006|\n",
      "|100007|\n",
      "+------+\n",
      "only showing top 10 rows\n",
      "\n",
      "+------+\n",
      "|userId|\n",
      "+------+\n",
      "|99    |\n",
      "|98    |\n",
      "|97    |\n",
      "|96    |\n",
      "|95    |\n",
      "|94    |\n",
      "|93    |\n",
      "|92    |\n",
      "|91    |\n",
      "|90    |\n",
      "+------+\n",
      "only showing top 10 rows\n",
      "\n"
     ]
    },
    {
     "data": {
      "text/plain": [
       "(None, None)"
      ]
     },
     "execution_count": 14,
     "metadata": {},
     "output_type": "execute_result"
    }
   ],
   "source": [
    "check_unique_values_of_column(user_log, \"userId\")"
   ]
  },
  {
   "cell_type": "code",
   "execution_count": 15,
   "metadata": {
    "collapsed": true
   },
   "outputs": [
    {
     "name": "stdout",
     "output_type": "stream",
     "text": [
      "+----------------------+-------------+\n",
      "|count(DISTINCT userId)|count(userId)|\n",
      "+----------------------+-------------+\n",
      "|                     0|            0|\n",
      "+----------------------+-------------+\n",
      "\n"
     ]
    }
   ],
   "source": [
    "get_count_of_null_value_of_column(\"user_log_table\", \"userId\")"
   ]
  },
  {
   "cell_type": "code",
   "execution_count": 16,
   "metadata": {
    "collapsed": true
   },
   "outputs": [
    {
     "name": "stdout",
     "output_type": "stream",
     "text": [
      "+----------------------+-------------+\n",
      "|count(DISTINCT userId)|count(userId)|\n",
      "+----------------------+-------------+\n",
      "|                     1|         8346|\n",
      "+----------------------+-------------+\n",
      "\n"
     ]
    }
   ],
   "source": [
    "#check user with id of \"\"\n",
    "spark.sql('''\n",
    "          SELECT count(DISTINCT userId), count(userId)\n",
    "          FROM user_log_table\n",
    "          where userId = \"\"'''\n",
    "          ).show()"
   ]
  },
  {
   "cell_type": "code",
   "execution_count": 17,
   "metadata": {},
   "outputs": [
    {
     "data": {
      "text/plain": [
       "[Row(artist=None, userId='', sessionId=8, firstname=None, page='Home', song=None),\n",
       " Row(artist=None, userId='', sessionId=8, firstname=None, page='Help', song=None),\n",
       " Row(artist=None, userId='', sessionId=8, firstname=None, page='Home', song=None),\n",
       " Row(artist=None, userId='', sessionId=8, firstname=None, page='Login', song=None),\n",
       " Row(artist=None, userId='', sessionId=240, firstname=None, page='Home', song=None)]"
      ]
     },
     "execution_count": 17,
     "metadata": {},
     "output_type": "execute_result"
    }
   ],
   "source": [
    "look_for_specific_value_of_column(user_log,\"userId\",\"\")"
   ]
  },
  {
   "cell_type": "code",
   "execution_count": null,
   "metadata": {},
   "outputs": [],
   "source": []
  },
  {
   "cell_type": "markdown",
   "metadata": {},
   "source": [
    "## Drop Empty UserId Rows"
   ]
  },
  {
   "cell_type": "code",
   "execution_count": 18,
   "metadata": {},
   "outputs": [
    {
     "name": "stdout",
     "output_type": "stream",
     "text": [
      "+---------+--------+\n",
      "|firstName|lastName|\n",
      "+---------+--------+\n",
      "|     null|    null|\n",
      "+---------+--------+\n",
      "\n"
     ]
    }
   ],
   "source": [
    "# check the name of users with userId= \"\"\n",
    "spark.sql('''\n",
    "          SELECT distinct firstName, lastName\n",
    "          FROM user_log_table\n",
    "          where userId = \"\"'''\n",
    "          ).show()"
   ]
  },
  {
   "cell_type": "code",
   "execution_count": 19,
   "metadata": {},
   "outputs": [],
   "source": [
    "# remove rows with userId=\"\"\n",
    "user_log = spark.sql('''\n",
    "          SELECT *\n",
    "          FROM user_log_table\n",
    "          where userId <> \"\"'''\n",
    "          )"
   ]
  },
  {
   "cell_type": "code",
   "execution_count": 20,
   "metadata": {},
   "outputs": [
    {
     "data": {
      "text/plain": [
       "278154"
      ]
     },
     "execution_count": 20,
     "metadata": {},
     "output_type": "execute_result"
    }
   ],
   "source": [
    "user_log.count()"
   ]
  },
  {
   "cell_type": "markdown",
   "metadata": {},
   "source": [
    "## Create Table with New State of DataFrame"
   ]
  },
  {
   "cell_type": "code",
   "execution_count": 21,
   "metadata": {},
   "outputs": [],
   "source": [
    "user_log.createOrReplaceTempView(\"user_log_table\")"
   ]
  },
  {
   "cell_type": "code",
   "execution_count": null,
   "metadata": {},
   "outputs": [],
   "source": []
  },
  {
   "cell_type": "markdown",
   "metadata": {},
   "source": [
    "## Check Artist Column"
   ]
  },
  {
   "cell_type": "code",
   "execution_count": 22,
   "metadata": {
    "collapsed": true
   },
   "outputs": [
    {
     "name": "stdout",
     "output_type": "stream",
     "text": [
      "+----------------------------+\n",
      "|artist                      |\n",
      "+----------------------------+\n",
      "|null                        |\n",
      "|!!!                         |\n",
      "|& And Oceans                |\n",
      "|'N Sync/Phil Collins        |\n",
      "|'Til Tuesday                |\n",
      "|'t Hof Van Commerce         |\n",
      "|'t Hof Van Commerce & Brahim|\n",
      "|(Love) Tattoo               |\n",
      "|(hed) p.e.                  |\n",
      "|*NSYNC featuring Nelly      |\n",
      "+----------------------------+\n",
      "only showing top 10 rows\n",
      "\n",
      "+-----------------------+\n",
      "|artist                 |\n",
      "+-----------------------+\n",
      "|ÃÂlafur Arnalds      |\n",
      "|ÃÂon                 |\n",
      "|ÃÂtienne Daho        |\n",
      "|ÃÂngeles del Infierno|\n",
      "|ÃÂµ-ziq               |\n",
      "|zero dB                |\n",
      "|zebrahead              |\n",
      "|xbxrx                  |\n",
      "|vanize                 |\n",
      "|unloco                 |\n",
      "+-----------------------+\n",
      "only showing top 10 rows\n",
      "\n"
     ]
    },
    {
     "data": {
      "text/plain": [
       "(None, None)"
      ]
     },
     "execution_count": 22,
     "metadata": {},
     "output_type": "execute_result"
    }
   ],
   "source": [
    "check_unique_values_of_column(user_log, \"artist\")"
   ]
  },
  {
   "cell_type": "code",
   "execution_count": 23,
   "metadata": {
    "collapsed": true
   },
   "outputs": [
    {
     "name": "stdout",
     "output_type": "stream",
     "text": [
      "+----------------------+-------------+\n",
      "|count(DISTINCT userId)|count(userId)|\n",
      "+----------------------+-------------+\n",
      "|                   224|        50046|\n",
      "+----------------------+-------------+\n",
      "\n"
     ]
    }
   ],
   "source": [
    "get_count_of_null_value_of_column(\"user_log_table\", \"artist\")"
   ]
  },
  {
   "cell_type": "code",
   "execution_count": 24,
   "metadata": {
    "collapsed": true
   },
   "outputs": [
    {
     "data": {
      "text/plain": [
       "[Row(artist=None, userId='30', sessionId=29, firstname='Colin', page='Add to Playlist', song=None),\n",
       " Row(artist=None, userId='9', sessionId=8, firstname='Micah', page='Roll Advert', song=None),\n",
       " Row(artist=None, userId='9', sessionId=8, firstname='Micah', page='Thumbs Up', song=None),\n",
       " Row(artist=None, userId='54', sessionId=53, firstname='Alexi', page='Downgrade', song=None),\n",
       " Row(artist=None, userId='54', sessionId=53, firstname='Alexi', page='Thumbs Up', song=None)]"
      ]
     },
     "execution_count": 24,
     "metadata": {},
     "output_type": "execute_result"
    }
   ],
   "source": [
    "look_for_specific_value_of_column(user_log, \"artist\", \"null\")"
   ]
  },
  {
   "cell_type": "code",
   "execution_count": 25,
   "metadata": {
    "collapsed": true
   },
   "outputs": [
    {
     "data": {
      "text/plain": [
       "[Row(artist='!!!', userId='95', sessionId=398, firstname='Faigy', page='NextSong', song='A New Name'),\n",
       " Row(artist='!!!', userId='121', sessionId=781, firstname='Nikolas', page='NextSong', song='Must Be The Moon'),\n",
       " Row(artist='!!!', userId='45', sessionId=1045, firstname='Isobella', page='NextSong', song='Yadnus'),\n",
       " Row(artist='!!!', userId='138', sessionId=1305, firstname='Samuel', page='NextSong', song='Must Be The Moon'),\n",
       " Row(artist='!!!', userId='28', sessionId=1519, firstname='Teagan', page='NextSong', song='Yadnus')]"
      ]
     },
     "execution_count": 25,
     "metadata": {},
     "output_type": "execute_result"
    }
   ],
   "source": [
    "look_for_specific_value_of_column(user_log, \"artist\", \"!!!\")"
   ]
  },
  {
   "cell_type": "code",
   "execution_count": 26,
   "metadata": {},
   "outputs": [
    {
     "data": {
      "text/plain": [
       "10"
      ]
     },
     "execution_count": 26,
     "metadata": {},
     "output_type": "execute_result"
    }
   ],
   "source": [
    "user_log.filter(user_log.artist == \"!!!\").count()"
   ]
  },
  {
   "cell_type": "code",
   "execution_count": 27,
   "metadata": {
    "scrolled": true
   },
   "outputs": [
    {
     "name": "stdout",
     "output_type": "stream",
     "text": [
      "+----------------------+\n",
      "|count(DISTINCT artist)|\n",
      "+----------------------+\n",
      "|                 17655|\n",
      "+----------------------+\n",
      "\n"
     ]
    }
   ],
   "source": [
    "get_count_of_categorical_column(\"user_log_table\",\"artist\")"
   ]
  },
  {
   "cell_type": "markdown",
   "metadata": {},
   "source": [
    "## Check Auth Column"
   ]
  },
  {
   "cell_type": "code",
   "execution_count": 28,
   "metadata": {},
   "outputs": [
    {
     "name": "stdout",
     "output_type": "stream",
     "text": [
      "+---------+\n",
      "|auth     |\n",
      "+---------+\n",
      "|Cancelled|\n",
      "|Logged In|\n",
      "+---------+\n",
      "\n",
      "+---------+\n",
      "|auth     |\n",
      "+---------+\n",
      "|Logged In|\n",
      "|Cancelled|\n",
      "+---------+\n",
      "\n"
     ]
    }
   ],
   "source": [
    "asc_auth, desc_auth = check_unique_values_of_column(user_log, \"auth\")"
   ]
  },
  {
   "cell_type": "code",
   "execution_count": 29,
   "metadata": {},
   "outputs": [
    {
     "name": "stdout",
     "output_type": "stream",
     "text": [
      "+----------------------+\n",
      "|count(DISTINCT userId)|\n",
      "+----------------------+\n",
      "|                    52|\n",
      "+----------------------+\n",
      "\n"
     ]
    }
   ],
   "source": [
    "# number of users with two state of auth.\n",
    "spark.sql('''\n",
    "            select count(distinct userId) from (\n",
    "          SELECT userId, count(distinct auth)\n",
    "          FROM user_log_table group by userId having  count(distinct auth) =2)  '''\n",
    "          ).show(10)"
   ]
  },
  {
   "cell_type": "code",
   "execution_count": 30,
   "metadata": {},
   "outputs": [
    {
     "name": "stdout",
     "output_type": "stream",
     "text": [
      "+--------------------+\n",
      "|                page|\n",
      "+--------------------+\n",
      "|Cancellation Conf...|\n",
      "+--------------------+\n",
      "\n"
     ]
    }
   ],
   "source": [
    "# distinct pages for \"cancelled\" value of auth column.\n",
    "spark.sql('''\n",
    "          SELECT distinct page\n",
    "          FROM user_log_table where auth= \"Cancelled\"  '''\n",
    "          ).show(10)"
   ]
  },
  {
   "cell_type": "markdown",
   "metadata": {},
   "source": [
    "## Check Gender"
   ]
  },
  {
   "cell_type": "code",
   "execution_count": 31,
   "metadata": {
    "collapsed": true
   },
   "outputs": [
    {
     "name": "stdout",
     "output_type": "stream",
     "text": [
      "+------+\n",
      "|gender|\n",
      "+------+\n",
      "|F     |\n",
      "|M     |\n",
      "+------+\n",
      "\n",
      "+------+\n",
      "|gender|\n",
      "+------+\n",
      "|M     |\n",
      "|F     |\n",
      "+------+\n",
      "\n"
     ]
    }
   ],
   "source": [
    "asc_gender, desc_gender = check_unique_values_of_column(user_log, \"gender\")"
   ]
  },
  {
   "cell_type": "code",
   "execution_count": 32,
   "metadata": {},
   "outputs": [
    {
     "name": "stdout",
     "output_type": "stream",
     "text": [
      "+------+----------------------+\n",
      "|gender|count(DISTINCT userId)|\n",
      "+------+----------------------+\n",
      "|     F|                   104|\n",
      "|     M|                   121|\n",
      "+------+----------------------+\n",
      "\n"
     ]
    }
   ],
   "source": [
    "get_user_counts_of_categorical_column(\"user_log_table\", \"gender\")"
   ]
  },
  {
   "cell_type": "markdown",
   "metadata": {},
   "source": [
    "## Check itemInSession"
   ]
  },
  {
   "cell_type": "code",
   "execution_count": 33,
   "metadata": {
    "collapsed": true
   },
   "outputs": [
    {
     "name": "stdout",
     "output_type": "stream",
     "text": [
      "+-------------+\n",
      "|itemInSession|\n",
      "+-------------+\n",
      "|0            |\n",
      "|1            |\n",
      "|2            |\n",
      "|3            |\n",
      "|4            |\n",
      "|5            |\n",
      "|6            |\n",
      "|7            |\n",
      "|8            |\n",
      "|9            |\n",
      "+-------------+\n",
      "only showing top 10 rows\n",
      "\n",
      "+-------------+\n",
      "|itemInSession|\n",
      "+-------------+\n",
      "|1321         |\n",
      "|1320         |\n",
      "|1319         |\n",
      "|1318         |\n",
      "|1317         |\n",
      "|1316         |\n",
      "|1315         |\n",
      "|1314         |\n",
      "|1313         |\n",
      "|1312         |\n",
      "+-------------+\n",
      "only showing top 10 rows\n",
      "\n"
     ]
    },
    {
     "data": {
      "text/plain": [
       "(None, None)"
      ]
     },
     "execution_count": 33,
     "metadata": {},
     "output_type": "execute_result"
    }
   ],
   "source": [
    "check_unique_values_of_column(user_log,\"itemInSession\")"
   ]
  },
  {
   "cell_type": "markdown",
   "metadata": {},
   "source": [
    "## Check Page"
   ]
  },
  {
   "cell_type": "code",
   "execution_count": 34,
   "metadata": {},
   "outputs": [
    {
     "name": "stdout",
     "output_type": "stream",
     "text": [
      "+-------------------------+\n",
      "|page                     |\n",
      "+-------------------------+\n",
      "|About                    |\n",
      "|Add Friend               |\n",
      "|Add to Playlist          |\n",
      "|Cancel                   |\n",
      "|Cancellation Confirmation|\n",
      "|Downgrade                |\n",
      "|Error                    |\n",
      "|Help                     |\n",
      "|Home                     |\n",
      "|Logout                   |\n",
      "+-------------------------+\n",
      "only showing top 10 rows\n",
      "\n",
      "+----------------+\n",
      "|page            |\n",
      "+----------------+\n",
      "|Upgrade         |\n",
      "|Thumbs Up       |\n",
      "|Thumbs Down     |\n",
      "|Submit Upgrade  |\n",
      "|Submit Downgrade|\n",
      "|Settings        |\n",
      "|Save Settings   |\n",
      "|Roll Advert     |\n",
      "|NextSong        |\n",
      "|Logout          |\n",
      "+----------------+\n",
      "only showing top 10 rows\n",
      "\n"
     ]
    },
    {
     "data": {
      "text/plain": [
       "(None, None)"
      ]
     },
     "execution_count": 34,
     "metadata": {},
     "output_type": "execute_result"
    }
   ],
   "source": [
    "check_unique_values_of_column(user_log, \"page\")"
   ]
  },
  {
   "cell_type": "code",
   "execution_count": 35,
   "metadata": {},
   "outputs": [
    {
     "name": "stdout",
     "output_type": "stream",
     "text": [
      "+--------------------+\n",
      "|count(DISTINCT page)|\n",
      "+--------------------+\n",
      "|                  19|\n",
      "+--------------------+\n",
      "\n"
     ]
    }
   ],
   "source": [
    "get_count_of_categorical_column(\"user_log_table\",\"page\")"
   ]
  },
  {
   "cell_type": "code",
   "execution_count": 36,
   "metadata": {},
   "outputs": [
    {
     "name": "stdout",
     "output_type": "stream",
     "text": [
      "+---------+----------------------+\n",
      "|     page|count(DISTINCT userId)|\n",
      "+---------+----------------------+\n",
      "|Downgrade|                   154|\n",
      "|  Upgrade|                   168|\n",
      "+---------+----------------------+\n",
      "\n"
     ]
    }
   ],
   "source": [
    "spark.sql('''\n",
    "          SELECT page, count(distinct userId)\n",
    "          FROM user_log_table where page in (\"Downgrade\",\"Upgrade\") group by page  '''\n",
    "          ).show(10)"
   ]
  },
  {
   "cell_type": "code",
   "execution_count": 37,
   "metadata": {
    "collapsed": true
   },
   "outputs": [
    {
     "name": "stdout",
     "output_type": "stream",
     "text": [
      "+------+--------+\n",
      "|userId|count(1)|\n",
      "+------+--------+\n",
      "|   140|       3|\n",
      "|    39|       3|\n",
      "|200003|       2|\n",
      "|    61|       2|\n",
      "|    20|       2|\n",
      "|   131|       2|\n",
      "|100004|       2|\n",
      "|    35|       2|\n",
      "|200023|       2|\n",
      "|    85|       2|\n",
      "+------+--------+\n",
      "only showing top 10 rows\n",
      "\n"
     ]
    }
   ],
   "source": [
    "# users with most downgrade counts \n",
    "spark.sql('''\n",
    "          SELECT userId, count(*)\n",
    "          FROM user_log_table where page in (\"Submit Downgrade\") group by userId order by 2 desc '''\n",
    "          ).show(10)"
   ]
  },
  {
   "cell_type": "markdown",
   "metadata": {},
   "source": [
    "## Check Song"
   ]
  },
  {
   "cell_type": "code",
   "execution_count": 38,
   "metadata": {
    "collapsed": true
   },
   "outputs": [
    {
     "name": "stdout",
     "output_type": "stream",
     "text": [
      "+--------------------------------------------------------------+\n",
      "|song                                                          |\n",
      "+--------------------------------------------------------------+\n",
      "|null                                                          |\n",
      "|\u001c",
      "ÃÂg ÃÂtti GrÃÂ¡a ÃÂsku                                |\n",
      "| I Will Not Reap Destruction                                  |\n",
      "|!@*$%#                                                        |\n",
      "|#!*@ You Tonight [Featuring R. Kelly] (Explicit Album Version)|\n",
      "|#1                                                            |\n",
      "|#1 Fan [Feat. Keyshia Cole & J. Holiday] (Album Version)      |\n",
      "|#1 Stunna                                                     |\n",
      "|#16                                                           |\n",
      "|#18 (Album Version)                                           |\n",
      "+--------------------------------------------------------------+\n",
      "only showing top 10 rows\n",
      "\n",
      "+------------------------------------------------+\n",
      "|song                                            |\n",
      "+------------------------------------------------+\n",
      "|ÃÂau hafa sloppiÃÂ° undan ÃÂ¾unga myrkursins|\n",
      "|ÃÂdvÃÂ¶zÃÂ¶l A Pokol                        |\n",
      "|ÃÂ                                            |\n",
      "|ÃÂsame                                        |\n",
      "|ÃÂltimo GrÃÂ£o                               |\n",
      "|ÃÂj templom ÃÂ©pÃÂ¼l                        |\n",
      "|ÃÂgyis tudom                                  |\n",
      "|ÃÂppna Upp Ditt FÃÂ¶nster                    |\n",
      "|ÃÂll Birtan                                   |\n",
      "|ÃÂde an die Freude                            |\n",
      "+------------------------------------------------+\n",
      "only showing top 10 rows\n",
      "\n"
     ]
    },
    {
     "data": {
      "text/plain": [
       "(None, None)"
      ]
     },
     "execution_count": 38,
     "metadata": {},
     "output_type": "execute_result"
    }
   ],
   "source": [
    "check_unique_values_of_column(user_log, \"song\")"
   ]
  },
  {
   "cell_type": "code",
   "execution_count": 39,
   "metadata": {
    "collapsed": true
   },
   "outputs": [
    {
     "name": "stdout",
     "output_type": "stream",
     "text": [
      "+----------------------+-------------+\n",
      "|count(DISTINCT userId)|count(userId)|\n",
      "+----------------------+-------------+\n",
      "|                   224|        50046|\n",
      "+----------------------+-------------+\n",
      "\n"
     ]
    }
   ],
   "source": [
    "get_count_of_null_value_of_column(\"user_log_table\", \"song\")"
   ]
  },
  {
   "cell_type": "code",
   "execution_count": 40,
   "metadata": {
    "collapsed": true
   },
   "outputs": [
    {
     "data": {
      "text/plain": [
       "[Row(artist=None, userId='30', sessionId=29, firstname='Colin', page='Add to Playlist', song=None),\n",
       " Row(artist=None, userId='9', sessionId=8, firstname='Micah', page='Roll Advert', song=None),\n",
       " Row(artist=None, userId='9', sessionId=8, firstname='Micah', page='Thumbs Up', song=None),\n",
       " Row(artist=None, userId='54', sessionId=53, firstname='Alexi', page='Downgrade', song=None),\n",
       " Row(artist=None, userId='54', sessionId=53, firstname='Alexi', page='Thumbs Up', song=None)]"
      ]
     },
     "execution_count": 40,
     "metadata": {},
     "output_type": "execute_result"
    }
   ],
   "source": [
    "look_for_specific_value_of_column(user_log,\"song\", \"null\")"
   ]
  },
  {
   "cell_type": "code",
   "execution_count": 41,
   "metadata": {},
   "outputs": [
    {
     "name": "stdout",
     "output_type": "stream",
     "text": [
      "+--------------------+\n",
      "|count(DISTINCT song)|\n",
      "+--------------------+\n",
      "|               58480|\n",
      "+--------------------+\n",
      "\n"
     ]
    }
   ],
   "source": [
    "get_count_of_categorical_column(\"user_log_table\",\"song\")"
   ]
  },
  {
   "cell_type": "markdown",
   "metadata": {},
   "source": [
    "## Check sessionId"
   ]
  },
  {
   "cell_type": "code",
   "execution_count": 42,
   "metadata": {
    "collapsed": true
   },
   "outputs": [
    {
     "name": "stdout",
     "output_type": "stream",
     "text": [
      "+---------+\n",
      "|sessionId|\n",
      "+---------+\n",
      "|1        |\n",
      "|2        |\n",
      "|3        |\n",
      "|4        |\n",
      "|5        |\n",
      "|6        |\n",
      "|7        |\n",
      "|8        |\n",
      "|9        |\n",
      "|10       |\n",
      "+---------+\n",
      "only showing top 10 rows\n",
      "\n",
      "+---------+\n",
      "|sessionId|\n",
      "+---------+\n",
      "|2474     |\n",
      "|2464     |\n",
      "|2459     |\n",
      "|2446     |\n",
      "|2444     |\n",
      "|2441     |\n",
      "|2434     |\n",
      "|2433     |\n",
      "|2432     |\n",
      "|2431     |\n",
      "+---------+\n",
      "only showing top 10 rows\n",
      "\n"
     ]
    },
    {
     "data": {
      "text/plain": [
       "(None, None)"
      ]
     },
     "execution_count": 42,
     "metadata": {},
     "output_type": "execute_result"
    }
   ],
   "source": [
    "check_unique_values_of_column(user_log, \"sessionId\")"
   ]
  },
  {
   "cell_type": "markdown",
   "metadata": {},
   "source": [
    "## Check Method"
   ]
  },
  {
   "cell_type": "code",
   "execution_count": 43,
   "metadata": {
    "collapsed": true
   },
   "outputs": [
    {
     "name": "stdout",
     "output_type": "stream",
     "text": [
      "+------+\n",
      "|method|\n",
      "+------+\n",
      "|GET   |\n",
      "|PUT   |\n",
      "+------+\n",
      "\n",
      "+------+\n",
      "|method|\n",
      "+------+\n",
      "|PUT   |\n",
      "|GET   |\n",
      "+------+\n",
      "\n"
     ]
    },
    {
     "data": {
      "text/plain": [
       "(None, None)"
      ]
     },
     "execution_count": 43,
     "metadata": {},
     "output_type": "execute_result"
    }
   ],
   "source": [
    "#get put\n",
    "check_unique_values_of_column(user_log, \"method\")"
   ]
  },
  {
   "cell_type": "markdown",
   "metadata": {},
   "source": [
    "## Check Registration"
   ]
  },
  {
   "cell_type": "code",
   "execution_count": 44,
   "metadata": {
    "collapsed": true
   },
   "outputs": [
    {
     "name": "stdout",
     "output_type": "stream",
     "text": [
      "+-------------+\n",
      "|registration |\n",
      "+-------------+\n",
      "|1521380675000|\n",
      "|1526739206000|\n",
      "|1526838391000|\n",
      "|1528403713000|\n",
      "|1528560242000|\n",
      "|1528772084000|\n",
      "|1528780738000|\n",
      "|1529027541000|\n",
      "|1529252604000|\n",
      "|1529643103000|\n",
      "+-------------+\n",
      "only showing top 10 rows\n",
      "\n",
      "+-------------+\n",
      "|registration |\n",
      "+-------------+\n",
      "|1543247354000|\n",
      "|1541370470000|\n",
      "|1541268021000|\n",
      "|1541223737000|\n",
      "|1540940608000|\n",
      "|1538336771000|\n",
      "|1538333829000|\n",
      "|1538331630000|\n",
      "|1538316317000|\n",
      "|1538313468000|\n",
      "+-------------+\n",
      "only showing top 10 rows\n",
      "\n"
     ]
    },
    {
     "data": {
      "text/plain": [
       "(None, None)"
      ]
     },
     "execution_count": 44,
     "metadata": {},
     "output_type": "execute_result"
    }
   ],
   "source": [
    "check_unique_values_of_column(user_log, \"registration\")"
   ]
  },
  {
   "cell_type": "markdown",
   "metadata": {},
   "source": [
    "## Check Level"
   ]
  },
  {
   "cell_type": "code",
   "execution_count": 45,
   "metadata": {
    "collapsed": true
   },
   "outputs": [
    {
     "name": "stdout",
     "output_type": "stream",
     "text": [
      "+-----+\n",
      "|level|\n",
      "+-----+\n",
      "|free |\n",
      "|paid |\n",
      "+-----+\n",
      "\n",
      "+-----+\n",
      "|level|\n",
      "+-----+\n",
      "|paid |\n",
      "|free |\n",
      "+-----+\n",
      "\n"
     ]
    },
    {
     "data": {
      "text/plain": [
       "(None, None)"
      ]
     },
     "execution_count": 45,
     "metadata": {},
     "output_type": "execute_result"
    }
   ],
   "source": [
    "#free paid\n",
    "check_unique_values_of_column(user_log, \"level\")"
   ]
  },
  {
   "cell_type": "code",
   "execution_count": null,
   "metadata": {},
   "outputs": [],
   "source": [
    "get_count_of_categorical_column(user_log)"
   ]
  },
  {
   "cell_type": "code",
   "execution_count": 46,
   "metadata": {},
   "outputs": [
    {
     "name": "stdout",
     "output_type": "stream",
     "text": [
      "+----------------------+\n",
      "|count(DISTINCT userId)|\n",
      "+----------------------+\n",
      "|                   135|\n",
      "+----------------------+\n",
      "\n"
     ]
    }
   ],
   "source": [
    "# count of users who expreienced free and paid versions (upgrade/downgrade)\n",
    "spark.sql('''\n",
    "            select count(distinct userId) from (\n",
    "          SELECT userId, count(distinct level)\n",
    "          FROM user_log_table group by userId having  count(distinct level) =2)  '''\n",
    "          ).show(10)"
   ]
  },
  {
   "cell_type": "code",
   "execution_count": null,
   "metadata": {},
   "outputs": [],
   "source": []
  },
  {
   "cell_type": "markdown",
   "metadata": {},
   "source": [
    "## Check Location"
   ]
  },
  {
   "cell_type": "code",
   "execution_count": 47,
   "metadata": {
    "collapsed": true
   },
   "outputs": [
    {
     "name": "stdout",
     "output_type": "stream",
     "text": [
      "+---------------------------------+\n",
      "|location                         |\n",
      "+---------------------------------+\n",
      "|Albany, OR                       |\n",
      "|Albany-Schenectady-Troy, NY      |\n",
      "|Alexandria, LA                   |\n",
      "|Allentown-Bethlehem-Easton, PA-NJ|\n",
      "|Anchorage, AK                    |\n",
      "|Atlanta-Sandy Springs-Roswell, GA|\n",
      "|Atlantic City-Hammonton, NJ      |\n",
      "|Austin-Round Rock, TX            |\n",
      "|Bakersfield, CA                  |\n",
      "|Baltimore-Columbia-Towson, MD    |\n",
      "+---------------------------------+\n",
      "only showing top 10 rows\n",
      "\n",
      "+--------------------------------------------+\n",
      "|location                                    |\n",
      "+--------------------------------------------+\n",
      "|Winston-Salem, NC                           |\n",
      "|Wilson, NC                                  |\n",
      "|Washington-Arlington-Alexandria, DC-VA-MD-WV|\n",
      "|Virginia Beach-Norfolk-Newport News, VA-NC  |\n",
      "|Vineland-Bridgeton, NJ                      |\n",
      "|Truckee-Grass Valley, CA                    |\n",
      "|Troy, AL                                    |\n",
      "|Tampa-St. Petersburg-Clearwater, FL         |\n",
      "|Tallahassee, FL                             |\n",
      "|Syracuse, NY                                |\n",
      "+--------------------------------------------+\n",
      "only showing top 10 rows\n",
      "\n"
     ]
    },
    {
     "data": {
      "text/plain": [
       "(None, None)"
      ]
     },
     "execution_count": 47,
     "metadata": {},
     "output_type": "execute_result"
    }
   ],
   "source": [
    "check_unique_values_of_column(user_log, \"location\")"
   ]
  },
  {
   "cell_type": "markdown",
   "metadata": {},
   "source": [
    "## Check Status"
   ]
  },
  {
   "cell_type": "code",
   "execution_count": 48,
   "metadata": {
    "collapsed": true
   },
   "outputs": [
    {
     "name": "stdout",
     "output_type": "stream",
     "text": [
      "+------+\n",
      "|status|\n",
      "+------+\n",
      "|200   |\n",
      "|307   |\n",
      "|404   |\n",
      "+------+\n",
      "\n",
      "+------+\n",
      "|status|\n",
      "+------+\n",
      "|404   |\n",
      "|307   |\n",
      "|200   |\n",
      "+------+\n",
      "\n"
     ]
    },
    {
     "data": {
      "text/plain": [
       "(None, None)"
      ]
     },
     "execution_count": 48,
     "metadata": {},
     "output_type": "execute_result"
    }
   ],
   "source": [
    "check_unique_values_of_column(user_log, \"status\")"
   ]
  },
  {
   "cell_type": "markdown",
   "metadata": {},
   "source": [
    "## Check UserAgent"
   ]
  },
  {
   "cell_type": "code",
   "execution_count": 49,
   "metadata": {
    "collapsed": true
   },
   "outputs": [
    {
     "name": "stdout",
     "output_type": "stream",
     "text": [
      "+--------------------------------------------------------------------------------------------------------------------------+\n",
      "|userAgent                                                                                                                 |\n",
      "+--------------------------------------------------------------------------------------------------------------------------+\n",
      "|\"Mozilla/5.0 (Macintosh; Intel Mac OS X 10_10) AppleWebKit/600.1.3 (KHTML, like Gecko) Version/8.0 Safari/600.1.3\"        |\n",
      "|\"Mozilla/5.0 (Macintosh; Intel Mac OS X 10_10) AppleWebKit/600.1.8 (KHTML, like Gecko) Version/8.0 Safari/600.1.8\"        |\n",
      "|\"Mozilla/5.0 (Macintosh; Intel Mac OS X 10_6_8) AppleWebKit/537.36 (KHTML, like Gecko) Chrome/36.0.1985.143 Safari/537.36\"|\n",
      "|\"Mozilla/5.0 (Macintosh; Intel Mac OS X 10_7_5) AppleWebKit/537.36 (KHTML, like Gecko) Chrome/36.0.1985.125 Safari/537.36\"|\n",
      "|\"Mozilla/5.0 (Macintosh; Intel Mac OS X 10_7_5) AppleWebKit/537.77.4 (KHTML, like Gecko) Version/6.1.5 Safari/537.77.4\"   |\n",
      "|\"Mozilla/5.0 (Macintosh; Intel Mac OS X 10_8_5) AppleWebKit/537.36 (KHTML, like Gecko) Chrome/36.0.1985.143 Safari/537.36\"|\n",
      "|\"Mozilla/5.0 (Macintosh; Intel Mac OS X 10_8_5) AppleWebKit/537.36 (KHTML, like Gecko) Chrome/37.0.2062.94 Safari/537.36\" |\n",
      "|\"Mozilla/5.0 (Macintosh; Intel Mac OS X 10_9_2) AppleWebKit/537.36 (KHTML, like Gecko) Chrome/36.0.1985.125 Safari/537.36\"|\n",
      "|\"Mozilla/5.0 (Macintosh; Intel Mac OS X 10_9_2) AppleWebKit/537.74.9 (KHTML, like Gecko) Version/7.0.2 Safari/537.74.9\"   |\n",
      "|\"Mozilla/5.0 (Macintosh; Intel Mac OS X 10_9_2) AppleWebKit/537.75.14 (KHTML, like Gecko) Version/7.0.3 Safari/537.75.14\" |\n",
      "+--------------------------------------------------------------------------------------------------------------------------+\n",
      "only showing top 10 rows\n",
      "\n",
      "+----------------------------------------------------------------------------+\n",
      "|userAgent                                                                   |\n",
      "+----------------------------------------------------------------------------+\n",
      "|Mozilla/5.0 (compatible; MSIE 9.0; Windows NT 6.1; WOW64; Trident/5.0)      |\n",
      "|Mozilla/5.0 (compatible; MSIE 9.0; Windows NT 6.1; Trident/5.0)             |\n",
      "|Mozilla/5.0 (compatible; MSIE 10.0; Windows NT 6.1; WOW64; Trident/6.0)     |\n",
      "|Mozilla/5.0 (X11; Ubuntu; Linux x86_64; rv:31.0) Gecko/20100101 Firefox/31.0|\n",
      "|Mozilla/5.0 (X11; Ubuntu; Linux i686; rv:31.0) Gecko/20100101 Firefox/31.0  |\n",
      "|Mozilla/5.0 (X11; Linux x86_64; rv:31.0) Gecko/20100101 Firefox/31.0        |\n",
      "|Mozilla/5.0 (Windows NT 6.3; WOW64; rv:31.0) Gecko/20100101 Firefox/31.0    |\n",
      "|Mozilla/5.0 (Windows NT 6.2; WOW64; rv:31.0) Gecko/20100101 Firefox/31.0    |\n",
      "|Mozilla/5.0 (Windows NT 6.1; rv:31.0) Gecko/20100101 Firefox/31.0           |\n",
      "|Mozilla/5.0 (Windows NT 6.1; WOW64; rv:32.0) Gecko/20100101 Firefox/32.0    |\n",
      "+----------------------------------------------------------------------------+\n",
      "only showing top 10 rows\n",
      "\n"
     ]
    },
    {
     "data": {
      "text/plain": [
       "(None, None)"
      ]
     },
     "execution_count": 49,
     "metadata": {},
     "output_type": "execute_result"
    }
   ],
   "source": [
    "check_unique_values_of_column(user_log, \"userAgent\")"
   ]
  },
  {
   "cell_type": "code",
   "execution_count": 50,
   "metadata": {},
   "outputs": [
    {
     "name": "stdout",
     "output_type": "stream",
     "text": [
      "+-------------------------+\n",
      "|count(DISTINCT userAgent)|\n",
      "+-------------------------+\n",
      "|                       56|\n",
      "+-------------------------+\n",
      "\n"
     ]
    }
   ],
   "source": [
    "get_count_of_categorical_column(\"user_log_table\",\"userAgent\")"
   ]
  },
  {
   "cell_type": "markdown",
   "metadata": {},
   "source": [
    "## Check Length"
   ]
  },
  {
   "cell_type": "code",
   "execution_count": 51,
   "metadata": {
    "collapsed": true
   },
   "outputs": [
    {
     "name": "stdout",
     "output_type": "stream",
     "text": [
      "+--------+\n",
      "|length  |\n",
      "+--------+\n",
      "|null    |\n",
      "|0.78322 |\n",
      "|2.16771 |\n",
      "|4.04853 |\n",
      "|4.8322  |\n",
      "|6.3473  |\n",
      "|7.83628 |\n",
      "|8.30649 |\n",
      "|9.01179 |\n",
      "|10.03057|\n",
      "+--------+\n",
      "only showing top 10 rows\n",
      "\n",
      "+----------+\n",
      "|length    |\n",
      "+----------+\n",
      "|3024.66567|\n",
      "|2743.09179|\n",
      "|2732.2771 |\n",
      "|2594.87302|\n",
      "|2560.7571 |\n",
      "|2520.99873|\n",
      "|2390.20363|\n",
      "|2369.04444|\n",
      "|2310.79138|\n",
      "|2297.39057|\n",
      "+----------+\n",
      "only showing top 10 rows\n",
      "\n"
     ]
    },
    {
     "data": {
      "text/plain": [
       "(None, None)"
      ]
     },
     "execution_count": 51,
     "metadata": {},
     "output_type": "execute_result"
    }
   ],
   "source": [
    "#has null\n",
    "check_unique_values_of_column(user_log, \"length\")"
   ]
  },
  {
   "cell_type": "code",
   "execution_count": 52,
   "metadata": {
    "collapsed": true
   },
   "outputs": [
    {
     "name": "stdout",
     "output_type": "stream",
     "text": [
      "+----------------------+-------------+\n",
      "|count(DISTINCT userId)|count(userId)|\n",
      "+----------------------+-------------+\n",
      "|                   224|        50046|\n",
      "+----------------------+-------------+\n",
      "\n"
     ]
    }
   ],
   "source": [
    "get_count_of_null_value_of_column(\"user_log_table\", \"length\")"
   ]
  },
  {
   "cell_type": "markdown",
   "metadata": {},
   "source": [
    "## Check ts"
   ]
  },
  {
   "cell_type": "code",
   "execution_count": 53,
   "metadata": {
    "collapsed": true
   },
   "outputs": [
    {
     "name": "stdout",
     "output_type": "stream",
     "text": [
      "+-------------+\n",
      "|ts           |\n",
      "+-------------+\n",
      "|1538352117000|\n",
      "|1538352180000|\n",
      "|1538352394000|\n",
      "|1538352416000|\n",
      "|1538352676000|\n",
      "|1538352678000|\n",
      "|1538352886000|\n",
      "|1538352899000|\n",
      "|1538352905000|\n",
      "|1538353084000|\n",
      "+-------------+\n",
      "only showing top 10 rows\n",
      "\n",
      "+-------------+\n",
      "|ts           |\n",
      "+-------------+\n",
      "|1543799476000|\n",
      "|1543622579000|\n",
      "|1543622432000|\n",
      "|1543622411000|\n",
      "|1543622398000|\n",
      "|1543622395000|\n",
      "|1543622365000|\n",
      "|1543622355000|\n",
      "|1543622320000|\n",
      "|1543622287000|\n",
      "+-------------+\n",
      "only showing top 10 rows\n",
      "\n"
     ]
    },
    {
     "data": {
      "text/plain": [
       "(None, None)"
      ]
     },
     "execution_count": 53,
     "metadata": {},
     "output_type": "execute_result"
    }
   ],
   "source": [
    "check_unique_values_of_column(user_log, \"ts\")"
   ]
  },
  {
   "cell_type": "code",
   "execution_count": null,
   "metadata": {},
   "outputs": [],
   "source": []
  },
  {
   "cell_type": "markdown",
   "metadata": {},
   "source": [
    "## Add Date Attributes (year, month, day, hour)"
   ]
  },
  {
   "cell_type": "code",
   "execution_count": 54,
   "metadata": {},
   "outputs": [],
   "source": [
    "#defining function which converts column to hour\n",
    "get_year = udf(lambda x: datetime.datetime.fromtimestamp(x / 1000.0). year)"
   ]
  },
  {
   "cell_type": "code",
   "execution_count": 55,
   "metadata": {},
   "outputs": [],
   "source": [
    "#defining function which converts column to hour\n",
    "get_month = udf(lambda x: datetime.datetime.fromtimestamp(x / 1000.0). month)"
   ]
  },
  {
   "cell_type": "code",
   "execution_count": 56,
   "metadata": {},
   "outputs": [],
   "source": [
    "#defining function which converts column to hour\n",
    "get_day = udf(lambda x: datetime.datetime.fromtimestamp(x / 1000.0). day)"
   ]
  },
  {
   "cell_type": "code",
   "execution_count": 57,
   "metadata": {},
   "outputs": [],
   "source": [
    "#defining function which converts column to hour\n",
    "get_hour = udf(lambda x: datetime.datetime.fromtimestamp(x / 1000.0). hour)"
   ]
  },
  {
   "cell_type": "code",
   "execution_count": 58,
   "metadata": {},
   "outputs": [],
   "source": [
    "# creating hour column applying by get_hour function on the ts column\n",
    "user_log = user_log.withColumn(\"hourr\", get_hour(user_log.ts))"
   ]
  },
  {
   "cell_type": "code",
   "execution_count": 59,
   "metadata": {},
   "outputs": [],
   "source": [
    "# creating hour column applying by get_day function on the ts column\n",
    "user_log = user_log.withColumn(\"dayy\", get_day(user_log.ts))"
   ]
  },
  {
   "cell_type": "code",
   "execution_count": 60,
   "metadata": {},
   "outputs": [],
   "source": [
    "# creating hour column applying by get_month function on the ts column\n",
    "user_log = user_log.withColumn(\"monthh\", get_month(user_log.ts))"
   ]
  },
  {
   "cell_type": "code",
   "execution_count": 61,
   "metadata": {},
   "outputs": [],
   "source": [
    "# creating hour column applying by get_year function on the ts column\n",
    "user_log = user_log.withColumn(\"yearr\", get_year(user_log.ts))"
   ]
  },
  {
   "cell_type": "code",
   "execution_count": 62,
   "metadata": {},
   "outputs": [
    {
     "data": {
      "text/plain": [
       "[Row(artist='Martha Tilston', auth='Logged In', firstName='Colin', gender='M', itemInSession=50, lastName='Freeman', length=277.89016, level='paid', location='Bakersfield, CA', method='PUT', page='NextSong', registration=1538173362000, sessionId=29, song='Rockpools', status=200, ts=1538352117000, userAgent='Mozilla/5.0 (Windows NT 6.1; WOW64; rv:31.0) Gecko/20100101 Firefox/31.0', userId='30', hourr='0', dayy='1', monthh='10', yearr='2018'),\n",
       " Row(artist='Five Iron Frenzy', auth='Logged In', firstName='Micah', gender='M', itemInSession=79, lastName='Long', length=236.09424, level='free', location='Boston-Cambridge-Newton, MA-NH', method='PUT', page='NextSong', registration=1538331630000, sessionId=8, song='Canada', status=200, ts=1538352180000, userAgent='\"Mozilla/5.0 (Windows NT 6.1; WOW64) AppleWebKit/537.36 (KHTML, like Gecko) Chrome/37.0.2062.103 Safari/537.36\"', userId='9', hourr='0', dayy='1', monthh='10', yearr='2018')]"
      ]
     },
     "execution_count": 62,
     "metadata": {},
     "output_type": "execute_result"
    }
   ],
   "source": [
    "user_log.take(2)"
   ]
  },
  {
   "cell_type": "markdown",
   "metadata": {},
   "source": [
    "## Create Table with New Columns"
   ]
  },
  {
   "cell_type": "code",
   "execution_count": 78,
   "metadata": {},
   "outputs": [],
   "source": [
    "user_log.createOrReplaceTempView(\"user_log_table\")"
   ]
  },
  {
   "cell_type": "code",
   "execution_count": 79,
   "metadata": {
    "collapsed": true
   },
   "outputs": [
    {
     "name": "stdout",
     "output_type": "stream",
     "text": [
      "+-----+\n",
      "|hourr|\n",
      "+-----+\n",
      "|    7|\n",
      "|   15|\n",
      "|   11|\n",
      "|    3|\n",
      "|    8|\n",
      "|   22|\n",
      "|   16|\n",
      "|    0|\n",
      "|    5|\n",
      "|   18|\n",
      "|   17|\n",
      "|    6|\n",
      "|   19|\n",
      "|   23|\n",
      "|    9|\n",
      "|    1|\n",
      "|   20|\n",
      "|   10|\n",
      "|    4|\n",
      "|   12|\n",
      "|   13|\n",
      "|   14|\n",
      "|   21|\n",
      "|    2|\n",
      "+-----+\n",
      "\n"
     ]
    }
   ],
   "source": [
    "#check hourr column\n",
    "spark.sql('''\n",
    "          SELECT distinct hourr\n",
    "          FROM user_log_table '''\n",
    "          ).show(30)"
   ]
  },
  {
   "cell_type": "code",
   "execution_count": 80,
   "metadata": {
    "collapsed": true
   },
   "outputs": [
    {
     "name": "stdout",
     "output_type": "stream",
     "text": [
      "+----+\n",
      "|dayy|\n",
      "+----+\n",
      "|   7|\n",
      "|  15|\n",
      "|  11|\n",
      "|  29|\n",
      "|   3|\n",
      "|  30|\n",
      "|   8|\n",
      "|  22|\n",
      "|  28|\n",
      "|  16|\n",
      "|   5|\n",
      "|  31|\n",
      "|  18|\n",
      "|  27|\n",
      "|  17|\n",
      "|  26|\n",
      "|   6|\n",
      "|  19|\n",
      "|  23|\n",
      "|  25|\n",
      "|   9|\n",
      "|  24|\n",
      "|   1|\n",
      "|  20|\n",
      "|  10|\n",
      "|   4|\n",
      "|  12|\n",
      "|  13|\n",
      "|  14|\n",
      "|  21|\n",
      "+----+\n",
      "only showing top 30 rows\n",
      "\n"
     ]
    }
   ],
   "source": [
    "#check dayy column\n",
    "spark.sql('''\n",
    "          SELECT distinct dayy\n",
    "          FROM user_log_table '''\n",
    "          ).show(30)"
   ]
  },
  {
   "cell_type": "code",
   "execution_count": 81,
   "metadata": {},
   "outputs": [
    {
     "name": "stdout",
     "output_type": "stream",
     "text": [
      "+------+\n",
      "|monthh|\n",
      "+------+\n",
      "|    11|\n",
      "|    10|\n",
      "|    12|\n",
      "+------+\n",
      "\n"
     ]
    }
   ],
   "source": [
    "#check monthh column\n",
    "spark.sql('''\n",
    "          SELECT distinct monthh\n",
    "          FROM user_log_table '''\n",
    "          ).show(30)"
   ]
  },
  {
   "cell_type": "code",
   "execution_count": 82,
   "metadata": {},
   "outputs": [
    {
     "name": "stdout",
     "output_type": "stream",
     "text": [
      "+-----+\n",
      "|yearr|\n",
      "+-----+\n",
      "| 2018|\n",
      "+-----+\n",
      "\n"
     ]
    }
   ],
   "source": [
    "#check yearr column\n",
    "spark.sql('''\n",
    "          SELECT distinct yearr\n",
    "          FROM user_log_table '''\n",
    "          ).show(30)"
   ]
  },
  {
   "cell_type": "code",
   "execution_count": 87,
   "metadata": {
    "collapsed": true
   },
   "outputs": [
    {
     "name": "stdout",
     "output_type": "stream",
     "text": [
      "<class 'pandas.core.frame.DataFrame'>\n",
      "RangeIndex: 278154 entries, 0 to 278153\n",
      "Data columns (total 22 columns):\n",
      "artist           228108 non-null object\n",
      "auth             278154 non-null object\n",
      "firstName        278154 non-null object\n",
      "gender           278154 non-null object\n",
      "itemInSession    278154 non-null int64\n",
      "lastName         278154 non-null object\n",
      "length           228108 non-null float64\n",
      "level            278154 non-null object\n",
      "location         278154 non-null object\n",
      "method           278154 non-null object\n",
      "page             278154 non-null object\n",
      "registration     278154 non-null int64\n",
      "sessionId        278154 non-null int64\n",
      "song             228108 non-null object\n",
      "status           278154 non-null int64\n",
      "ts               278154 non-null int64\n",
      "userAgent        278154 non-null object\n",
      "userId           278154 non-null object\n",
      "hourr            278154 non-null object\n",
      "dayy             278154 non-null object\n",
      "monthh           278154 non-null object\n",
      "yearr            278154 non-null object\n",
      "dtypes: float64(1), int64(5), object(16)\n",
      "memory usage: 46.7+ MB\n"
     ]
    }
   ],
   "source": [
    "user_log.toPandas().info()"
   ]
  },
  {
   "cell_type": "code",
   "execution_count": null,
   "metadata": {},
   "outputs": [],
   "source": []
  },
  {
   "cell_type": "code",
   "execution_count": null,
   "metadata": {},
   "outputs": [],
   "source": []
  },
  {
   "cell_type": "markdown",
   "metadata": {},
   "source": [
    "# Feature Engineering\n",
    "Once you've familiarized yourself with the data, build out the features you find promising to train your model on. To work with the full dataset, you can follow the following steps.\n",
    "- Write a script to extract the necessary features from the smaller subset of data\n",
    "- Ensure that your script is scalable, using the best practices discussed in Lesson 3\n",
    "- Try your script on the full data set, debugging your script if necessary\n",
    "\n",
    "If you are working in the classroom workspace, you can just extract features based on the small subset of data contained here. Be sure to transfer over this work to the larger dataset when you work on your Spark cluster."
   ]
  },
  {
   "cell_type": "code",
   "execution_count": 88,
   "metadata": {},
   "outputs": [
    {
     "name": "stdout",
     "output_type": "stream",
     "text": [
      "+----------------------+--------+\n",
      "|count(DISTINCT userId)|count(1)|\n",
      "+----------------------+--------+\n",
      "|                    52|      52|\n",
      "+----------------------+--------+\n",
      "\n"
     ]
    }
   ],
   "source": [
    "#count of churner\n",
    "spark.sql('''\n",
    "          SELECT count(distinct userId), count(*)\n",
    "          FROM user_log_table where page = \"Cancellation Confirmation\" '''\n",
    "          ).show(30)"
   ]
  },
  {
   "cell_type": "code",
   "execution_count": 89,
   "metadata": {},
   "outputs": [
    {
     "name": "stdout",
     "output_type": "stream",
     "text": [
      "+--------------+\n",
      "|          song|\n",
      "+--------------+\n",
      "|You're The One|\n",
      "+--------------+\n",
      "\n"
     ]
    }
   ],
   "source": [
    "#most_listened_song\n",
    "spark.sql('''\n",
    "          SELECT song\n",
    "          FROM user_log_table \n",
    "          where song is not null \n",
    "          group by song \n",
    "          order by count(*)  desc\n",
    "          limit 1 '''\n",
    "          ).show(5)"
   ]
  },
  {
   "cell_type": "code",
   "execution_count": 90,
   "metadata": {},
   "outputs": [
    {
     "name": "stdout",
     "output_type": "stream",
     "text": [
      "+-------------+\n",
      "|       artist|\n",
      "+-------------+\n",
      "|Kings Of Leon|\n",
      "+-------------+\n",
      "\n"
     ]
    }
   ],
   "source": [
    "#most listened artist\n",
    "spark.sql('''\n",
    "          SELECT artist\n",
    "          FROM user_log_table \n",
    "          where artist is not null \n",
    "          group by artist \n",
    "          order by count(*)  desc\n",
    "          limit 1 '''\n",
    "          ).show(5)"
   ]
  },
  {
   "cell_type": "code",
   "execution_count": 91,
   "metadata": {
    "collapsed": true
   },
   "outputs": [
    {
     "name": "stdout",
     "output_type": "stream",
     "text": [
      "+--------+\n",
      "|count(1)|\n",
      "+--------+\n",
      "|       1|\n",
      "|       1|\n",
      "|       1|\n",
      "|       1|\n",
      "|       1|\n",
      "|       1|\n",
      "|       1|\n",
      "|       1|\n",
      "|       1|\n",
      "|       1|\n",
      "|       1|\n",
      "|       1|\n",
      "|       1|\n",
      "|       1|\n",
      "|       1|\n",
      "|       1|\n",
      "|       1|\n",
      "|       1|\n",
      "|       1|\n",
      "|       1|\n",
      "+--------+\n",
      "only showing top 20 rows\n",
      "\n"
     ]
    }
   ],
   "source": [
    "# the count of churn action for a churner user\n",
    "spark.sql('''\n",
    "          SELECT count(*)\n",
    "          FROM user_log_table where page = \"Cancellation Confirmation\" \n",
    "          group by userId order by 1 desc'''\n",
    "         ).show()"
   ]
  },
  {
   "cell_type": "code",
   "execution_count": 92,
   "metadata": {},
   "outputs": [
    {
     "name": "stdout",
     "output_type": "stream",
     "text": [
      "+------+--------+\n",
      "|monthh|count(1)|\n",
      "+------+--------+\n",
      "|    12|       4|\n",
      "|    11|  133234|\n",
      "|    10|  144916|\n",
      "+------+--------+\n",
      "\n"
     ]
    }
   ],
   "source": [
    "# row count for each month\n",
    "spark.sql('''\n",
    "          SELECT monthh, count(*)\n",
    "          FROM user_log_table --where page = \"Cancellation Confirmation\" \n",
    "          group by monthh order by 1 desc'''\n",
    "         ).show()"
   ]
  },
  {
   "cell_type": "code",
   "execution_count": null,
   "metadata": {},
   "outputs": [],
   "source": []
  },
  {
   "cell_type": "code",
   "execution_count": null,
   "metadata": {},
   "outputs": [],
   "source": []
  },
  {
   "cell_type": "code",
   "execution_count": 196,
   "metadata": {},
   "outputs": [],
   "source": [
    "# creating new data with new features\n",
    "# mls: most listened song,    mla: most listened artist\n",
    "user_log_model = spark.sql('''\n",
    "              SELECT \n",
    "              userId, case when gender = \"M\" then 1 else 0 end as is_male,\n",
    "              count(distinct monthh||dayy) count_distinct_day,\n",
    "              count(song)/count(distinct monthh||dayy) avg_daily_song,\n",
    "              count(distinct artist) / count(distinct monthh||dayy) avg_daily_distinct_artist,\n",
    "              count(distinct song)/count(distinct monthh||dayy) avg_daily_distinct_song,\n",
    "              sum(case when page = \"Error\" then 1 else 0 end) / count (distinct sessionId) avg_error_per_session,\n",
    "              sum(case when page = \"Thumbs Up\" then 1 else 0 end) / count (song) avg_thumbs_up_per_song,\n",
    "              sum(case when page = \"Thumbs Down\" then 1 else 0 end) / count (song) avg_thumbs_down_per_song,\n",
    "              sum(case when page = \"Add to Playlist\" then 1 else 0 end) / count (song) avg_add_to_playlist_per_song,\n",
    "              sum(case when page = \"Cancellation Confirmation\" then 1 else 0 end) Churn,\n",
    "              sum(case when auth = \"Logged In\" then 1 else 0 end) /count(distinct monthh||dayy) avg_daily_login,\n",
    "              sum(case when song like \"You%re The One\" then 1 else 0 end) /count(distinct monthh||dayy) avg_daily_mls,\n",
    "              sum(case when artist like \"Kings Of Leon\" then 1 else 0 end) /count(distinct monthh||dayy) avg_daily_mla,\n",
    "              sum(case when page = \"Submit Upgrade\" then 1 else 0 end) /count(distinct monthh||dayy) avg_daily_upgrade,\n",
    "              sum(case when page = \"Submit Downgrade\" then 1 else 0 end) /count(distinct monthh||dayy) avg_daily_downgrade\n",
    "              FROM user_log_table \n",
    "              group by userId, case when gender = \"M\" then 1 else 0 end'''\n",
    "              )"
   ]
  },
  {
   "cell_type": "code",
   "execution_count": 197,
   "metadata": {
    "collapsed": true
   },
   "outputs": [
    {
     "name": "stdout",
     "output_type": "stream",
     "text": [
      "<class 'pandas.core.frame.DataFrame'>\n",
      "RangeIndex: 225 entries, 0 to 224\n",
      "Data columns (total 16 columns):\n",
      "userId                          225 non-null object\n",
      "is_male                         225 non-null int32\n",
      "count_distinct_day              225 non-null int64\n",
      "avg_daily_song                  225 non-null float64\n",
      "avg_daily_distinct_artist       225 non-null float64\n",
      "avg_daily_distinct_song         225 non-null float64\n",
      "avg_error_per_session           225 non-null float64\n",
      "avg_thumbs_up_per_song          225 non-null float64\n",
      "avg_thumbs_down_per_song        225 non-null float64\n",
      "avg_add_to_playlist_per_song    225 non-null float64\n",
      "Churn                           225 non-null int64\n",
      "avg_daily_login                 225 non-null float64\n",
      "avg_daily_mls                   225 non-null float64\n",
      "avg_daily_mla                   225 non-null float64\n",
      "avg_daily_upgrade               225 non-null float64\n",
      "avg_daily_downgrade             225 non-null float64\n",
      "dtypes: float64(12), int32(1), int64(2), object(1)\n",
      "memory usage: 27.3+ KB\n"
     ]
    }
   ],
   "source": [
    "user_log_model.toPandas().info()"
   ]
  },
  {
   "cell_type": "code",
   "execution_count": 244,
   "metadata": {},
   "outputs": [
    {
     "data": {
      "text/plain": [
       "['userId',\n",
       " 'is_male',\n",
       " 'count_distinct_day',\n",
       " 'avg_daily_song',\n",
       " 'avg_daily_distinct_artist',\n",
       " 'avg_daily_distinct_song',\n",
       " 'avg_error_per_session',\n",
       " 'avg_thumbs_up_per_song',\n",
       " 'avg_thumbs_down_per_song',\n",
       " 'avg_add_to_playlist_per_song',\n",
       " 'Churn',\n",
       " 'avg_daily_login',\n",
       " 'avg_daily_mls',\n",
       " 'avg_daily_mla',\n",
       " 'avg_daily_upgrade',\n",
       " 'avg_daily_downgrade']"
      ]
     },
     "execution_count": 244,
     "metadata": {},
     "output_type": "execute_result"
    }
   ],
   "source": [
    "user_log_model.schema.names"
   ]
  },
  {
   "cell_type": "code",
   "execution_count": null,
   "metadata": {},
   "outputs": [],
   "source": []
  },
  {
   "cell_type": "markdown",
   "metadata": {},
   "source": [
    "## Create Table of Model Data"
   ]
  },
  {
   "cell_type": "code",
   "execution_count": 198,
   "metadata": {},
   "outputs": [],
   "source": [
    "#create table with new data\n",
    "user_log_model.createOrReplaceTempView(\"user_log_model_table\")"
   ]
  },
  {
   "cell_type": "code",
   "execution_count": 199,
   "metadata": {
    "collapsed": true
   },
   "outputs": [
    {
     "name": "stdout",
     "output_type": "stream",
     "text": [
      "+------+--------+\n",
      "|userId|count(1)|\n",
      "+------+--------+\n",
      "|100010|       1|\n",
      "|200002|       1|\n",
      "|   125|       1|\n",
      "|     7|       1|\n",
      "|    51|       1|\n",
      "|   124|       1|\n",
      "|    15|       1|\n",
      "|    54|       1|\n",
      "|   155|       1|\n",
      "|100014|       1|\n",
      "+------+--------+\n",
      "only showing top 10 rows\n",
      "\n"
     ]
    }
   ],
   "source": [
    "#check duplication of users\n",
    "spark.sql('''\n",
    "          SELECT userId,count(*) \n",
    "          FROM user_log_model_table group by userId order by 2 desc'''\n",
    "          ).show(10)"
   ]
  },
  {
   "cell_type": "code",
   "execution_count": null,
   "metadata": {},
   "outputs": [],
   "source": []
  },
  {
   "cell_type": "markdown",
   "metadata": {},
   "source": [
    "# VISUALIZATIONS"
   ]
  },
  {
   "cell_type": "code",
   "execution_count": 200,
   "metadata": {},
   "outputs": [],
   "source": [
    "user_log_model_df = user_log_model.toPandas()"
   ]
  },
  {
   "cell_type": "code",
   "execution_count": 114,
   "metadata": {},
   "outputs": [],
   "source": [
    "df_gender = spark.sql('''\n",
    "          SELECT case when is_male=1 then \"male\" else \"female\" end as gender , sum(case when Churn = 1 then 1 else 0 end)/count(*) as churn_rate \n",
    "          FROM user_log_model_table group by case when is_male=1 then \"male\" else \"female\" end'''\n",
    "          ).toPandas()"
   ]
  },
  {
   "cell_type": "code",
   "execution_count": 119,
   "metadata": {},
   "outputs": [
    {
     "data": {
      "text/plain": [
       "<matplotlib.axes._subplots.AxesSubplot at 0x7f936d938240>"
      ]
     },
     "execution_count": 119,
     "metadata": {},
     "output_type": "execute_result"
    },
    {
     "data": {
      "image/png": "[encoded data removed]",
      "text/plain": [
       "<matplotlib.figure.Figure at 0x7f936d90d4a8>"
      ]
     },
     "metadata": {
      "needs_background": "light"
     },
     "output_type": "display_data"
    }
   ],
   "source": [
    "#churn rates of males and females.\n",
    "df_gender.plot.bar(x=\"gender\", y=\"churn_rate\")\n",
    "#df.plot.bar(x='lab', y='val', rot=0)"
   ]
  },
  {
   "cell_type": "code",
   "execution_count": 157,
   "metadata": {},
   "outputs": [
    {
     "data": {
      "text/plain": [
       "array([[<matplotlib.axes._subplots.AxesSubplot object at 0x7f93764bc5f8>]], dtype=object)"
      ]
     },
     "execution_count": 157,
     "metadata": {},
     "output_type": "execute_result"
    },
    {
     "data": {
      "image/png": "[encoded data removed]",
      "text/plain": [
       "<matplotlib.figure.Figure at 0x7f93764de518>"
      ]
     },
     "metadata": {
      "needs_background": "light"
     },
     "output_type": "display_data"
    }
   ],
   "source": [
    "# distribution of average number of song listened per day \n",
    "user_log_model_df.hist(column=[\"avg_daily_song\"])"
   ]
  },
  {
   "cell_type": "code",
   "execution_count": 174,
   "metadata": {},
   "outputs": [
    {
     "data": {
      "text/plain": [
       "array([[<matplotlib.axes._subplots.AxesSubplot object at 0x7f9372f8eb38>]], dtype=object)"
      ]
     },
     "execution_count": 174,
     "metadata": {},
     "output_type": "execute_result"
    },
    {
     "data": {
      "image/png": "[encoded data removed]",
      "text/plain": [
       "<matplotlib.figure.Figure at 0x7f9372f80b70>"
      ]
     },
     "metadata": {
      "needs_background": "light"
     },
     "output_type": "display_data"
    }
   ],
   "source": [
    "# avg daily song of churners\n",
    "user_log_model_df.loc[user_log_model_df[\"Churn\"]==1].hist(column=[\"avg_daily_song\"])"
   ]
  },
  {
   "cell_type": "code",
   "execution_count": 176,
   "metadata": {},
   "outputs": [],
   "source": [
    "import seaborn as sns"
   ]
  },
  {
   "cell_type": "code",
   "execution_count": 179,
   "metadata": {},
   "outputs": [
    {
     "name": "stdout",
     "output_type": "stream",
     "text": [
      "<class 'pandas.core.frame.DataFrame'>\n",
      "RangeIndex: 225 entries, 0 to 224\n",
      "Data columns (total 16 columns):\n",
      "userId                          225 non-null object\n",
      "is_male                         225 non-null int32\n",
      "count_distinct_day              225 non-null int64\n",
      "avg_daily_song                  225 non-null float64\n",
      "avg_daily_distinct_artist       225 non-null float64\n",
      "avg_daily_distinct_song         225 non-null float64\n",
      "avg_error_per_session           225 non-null float64\n",
      "avg_thumbs_up_per_song          225 non-null float64\n",
      "avg_thumbs_down_per_song        225 non-null float64\n",
      "avg_add_to_playlist_per_song    225 non-null float64\n",
      "Churn                           225 non-null int64\n",
      "avg_daily_login                 225 non-null float64\n",
      "avg_daily_mls                   225 non-null float64\n",
      "avg_daily_mla                   225 non-null float64\n",
      "avg_daily_upgrade               225 non-null float64\n",
      "avg_daily_downgrade             225 non-null float64\n",
      "dtypes: float64(12), int32(1), int64(2), object(1)\n",
      "memory usage: 27.3+ KB\n"
     ]
    }
   ],
   "source": [
    "user_log_model_df.info()"
   ]
  },
  {
   "cell_type": "code",
   "execution_count": 201,
   "metadata": {
    "scrolled": false
   },
   "outputs": [
    {
     "data": {
      "text/plain": [
       "<matplotlib.axes._subplots.AxesSubplot at 0x7f936c2b9cc0>"
      ]
     },
     "execution_count": 201,
     "metadata": {},
     "output_type": "execute_result"
    },
    {
     "data": {
      "image/png": "[encoded data removed]",
      "text/plain": [
       "<matplotlib.figure.Figure at 0x7f936c2f1dd8>"
      ]
     },
     "metadata": {
      "needs_background": "light"
     },
     "output_type": "display_data"
    }
   ],
   "source": [
    "# the correlation heatmap of features\n",
    "sns.heatmap(user_log_model_df.drop(axis=1, columns=[\"userId\"]).corr(),)"
   ]
  },
  {
   "cell_type": "code",
   "execution_count": 223,
   "metadata": {},
   "outputs": [
    {
     "data": {
      "text/html": [
       "<div>\n",
       "<style scoped>\n",
       "    .dataframe tbody tr th:only-of-type {\n",
       "        vertical-align: middle;\n",
       "    }\n",
       "\n",
       "    .dataframe tbody tr th {\n",
       "        vertical-align: top;\n",
       "    }\n",
       "\n",
       "    .dataframe thead th {\n",
       "        text-align: right;\n",
       "    }\n",
       "</style>\n",
       "<table border=\"1\" class=\"dataframe\">\n",
       "  <thead>\n",
       "    <tr style=\"text-align: right;\">\n",
       "      <th></th>\n",
       "      <th>is_male</th>\n",
       "      <th>count_distinct_day</th>\n",
       "      <th>avg_daily_song</th>\n",
       "      <th>avg_daily_distinct_artist</th>\n",
       "      <th>avg_daily_distinct_song</th>\n",
       "      <th>avg_error_per_session</th>\n",
       "      <th>avg_thumbs_up_per_song</th>\n",
       "      <th>avg_thumbs_down_per_song</th>\n",
       "      <th>avg_add_to_playlist_per_song</th>\n",
       "      <th>Churn</th>\n",
       "      <th>avg_daily_login</th>\n",
       "      <th>avg_daily_mls</th>\n",
       "      <th>avg_daily_mla</th>\n",
       "      <th>avg_daily_upgrade</th>\n",
       "      <th>avg_daily_downgrade</th>\n",
       "    </tr>\n",
       "  </thead>\n",
       "  <tbody>\n",
       "    <tr>\n",
       "      <th>is_male</th>\n",
       "      <td>1.000000</td>\n",
       "      <td>-0.175088</td>\n",
       "      <td>-0.109925</td>\n",
       "      <td>-0.082143</td>\n",
       "      <td>-0.100566</td>\n",
       "      <td>-0.052795</td>\n",
       "      <td>-0.019833</td>\n",
       "      <td>0.058324</td>\n",
       "      <td>0.053275</td>\n",
       "      <td>0.085340</td>\n",
       "      <td>-0.113692</td>\n",
       "      <td>-0.009036</td>\n",
       "      <td>-0.090222</td>\n",
       "      <td>0.025734</td>\n",
       "      <td>-0.099705</td>\n",
       "    </tr>\n",
       "    <tr>\n",
       "      <th>count_distinct_day</th>\n",
       "      <td>-0.175088</td>\n",
       "      <td>1.000000</td>\n",
       "      <td>0.387916</td>\n",
       "      <td>0.103935</td>\n",
       "      <td>0.296809</td>\n",
       "      <td>0.026031</td>\n",
       "      <td>0.015876</td>\n",
       "      <td>-0.013893</td>\n",
       "      <td>0.021697</td>\n",
       "      <td>-0.201330</td>\n",
       "      <td>0.380313</td>\n",
       "      <td>0.107264</td>\n",
       "      <td>0.208162</td>\n",
       "      <td>-0.046295</td>\n",
       "      <td>0.123860</td>\n",
       "    </tr>\n",
       "    <tr>\n",
       "      <th>avg_daily_song</th>\n",
       "      <td>-0.109925</td>\n",
       "      <td>0.387916</td>\n",
       "      <td>1.000000</td>\n",
       "      <td>0.938745</td>\n",
       "      <td>0.992862</td>\n",
       "      <td>0.327601</td>\n",
       "      <td>-0.016492</td>\n",
       "      <td>-0.102238</td>\n",
       "      <td>-0.048415</td>\n",
       "      <td>-0.032635</td>\n",
       "      <td>0.997538</td>\n",
       "      <td>0.500800</td>\n",
       "      <td>0.698983</td>\n",
       "      <td>0.185708</td>\n",
       "      <td>0.092204</td>\n",
       "    </tr>\n",
       "    <tr>\n",
       "      <th>avg_daily_distinct_artist</th>\n",
       "      <td>-0.082143</td>\n",
       "      <td>0.103935</td>\n",
       "      <td>0.938745</td>\n",
       "      <td>1.000000</td>\n",
       "      <td>0.972076</td>\n",
       "      <td>0.343086</td>\n",
       "      <td>-0.007760</td>\n",
       "      <td>-0.089466</td>\n",
       "      <td>-0.072098</td>\n",
       "      <td>0.012761</td>\n",
       "      <td>0.941202</td>\n",
       "      <td>0.521037</td>\n",
       "      <td>0.697249</td>\n",
       "      <td>0.237598</td>\n",
       "      <td>0.084315</td>\n",
       "    </tr>\n",
       "    <tr>\n",
       "      <th>avg_daily_distinct_song</th>\n",
       "      <td>-0.100566</td>\n",
       "      <td>0.296809</td>\n",
       "      <td>0.992862</td>\n",
       "      <td>0.972076</td>\n",
       "      <td>1.000000</td>\n",
       "      <td>0.339807</td>\n",
       "      <td>-0.015814</td>\n",
       "      <td>-0.099372</td>\n",
       "      <td>-0.056134</td>\n",
       "      <td>-0.017212</td>\n",
       "      <td>0.991601</td>\n",
       "      <td>0.511066</td>\n",
       "      <td>0.707812</td>\n",
       "      <td>0.207082</td>\n",
       "      <td>0.091519</td>\n",
       "    </tr>\n",
       "    <tr>\n",
       "      <th>avg_error_per_session</th>\n",
       "      <td>-0.052795</td>\n",
       "      <td>0.026031</td>\n",
       "      <td>0.327601</td>\n",
       "      <td>0.343086</td>\n",
       "      <td>0.339807</td>\n",
       "      <td>1.000000</td>\n",
       "      <td>0.024509</td>\n",
       "      <td>-0.025694</td>\n",
       "      <td>-0.024197</td>\n",
       "      <td>-0.085563</td>\n",
       "      <td>0.338381</td>\n",
       "      <td>0.133748</td>\n",
       "      <td>0.437531</td>\n",
       "      <td>0.068698</td>\n",
       "      <td>-0.009833</td>\n",
       "    </tr>\n",
       "    <tr>\n",
       "      <th>avg_thumbs_up_per_song</th>\n",
       "      <td>-0.019833</td>\n",
       "      <td>0.015876</td>\n",
       "      <td>-0.016492</td>\n",
       "      <td>-0.007760</td>\n",
       "      <td>-0.015814</td>\n",
       "      <td>0.024509</td>\n",
       "      <td>1.000000</td>\n",
       "      <td>-0.084097</td>\n",
       "      <td>-0.086859</td>\n",
       "      <td>-0.026816</td>\n",
       "      <td>0.001976</td>\n",
       "      <td>-0.039709</td>\n",
       "      <td>0.056201</td>\n",
       "      <td>0.053120</td>\n",
       "      <td>-0.043124</td>\n",
       "    </tr>\n",
       "    <tr>\n",
       "      <th>avg_thumbs_down_per_song</th>\n",
       "      <td>0.058324</td>\n",
       "      <td>-0.013893</td>\n",
       "      <td>-0.102238</td>\n",
       "      <td>-0.089466</td>\n",
       "      <td>-0.099372</td>\n",
       "      <td>-0.025694</td>\n",
       "      <td>-0.084097</td>\n",
       "      <td>1.000000</td>\n",
       "      <td>0.347583</td>\n",
       "      <td>0.286773</td>\n",
       "      <td>-0.076039</td>\n",
       "      <td>0.006481</td>\n",
       "      <td>-0.104326</td>\n",
       "      <td>0.029700</td>\n",
       "      <td>0.079530</td>\n",
       "    </tr>\n",
       "    <tr>\n",
       "      <th>avg_add_to_playlist_per_song</th>\n",
       "      <td>0.053275</td>\n",
       "      <td>0.021697</td>\n",
       "      <td>-0.048415</td>\n",
       "      <td>-0.072098</td>\n",
       "      <td>-0.056134</td>\n",
       "      <td>-0.024197</td>\n",
       "      <td>-0.086859</td>\n",
       "      <td>0.347583</td>\n",
       "      <td>1.000000</td>\n",
       "      <td>0.090871</td>\n",
       "      <td>-0.039142</td>\n",
       "      <td>-0.148024</td>\n",
       "      <td>-0.014344</td>\n",
       "      <td>0.044175</td>\n",
       "      <td>-0.057863</td>\n",
       "    </tr>\n",
       "    <tr>\n",
       "      <th>Churn</th>\n",
       "      <td>0.085340</td>\n",
       "      <td>-0.201330</td>\n",
       "      <td>-0.032635</td>\n",
       "      <td>0.012761</td>\n",
       "      <td>-0.017212</td>\n",
       "      <td>-0.085563</td>\n",
       "      <td>-0.026816</td>\n",
       "      <td>0.286773</td>\n",
       "      <td>0.090871</td>\n",
       "      <td>1.000000</td>\n",
       "      <td>-0.014697</td>\n",
       "      <td>0.000830</td>\n",
       "      <td>-0.027977</td>\n",
       "      <td>0.075370</td>\n",
       "      <td>-0.017579</td>\n",
       "    </tr>\n",
       "    <tr>\n",
       "      <th>avg_daily_login</th>\n",
       "      <td>-0.113692</td>\n",
       "      <td>0.380313</td>\n",
       "      <td>0.997538</td>\n",
       "      <td>0.941202</td>\n",
       "      <td>0.991601</td>\n",
       "      <td>0.338381</td>\n",
       "      <td>0.001976</td>\n",
       "      <td>-0.076039</td>\n",
       "      <td>-0.039142</td>\n",
       "      <td>-0.014697</td>\n",
       "      <td>1.000000</td>\n",
       "      <td>0.506751</td>\n",
       "      <td>0.706801</td>\n",
       "      <td>0.195499</td>\n",
       "      <td>0.104362</td>\n",
       "    </tr>\n",
       "    <tr>\n",
       "      <th>avg_daily_mls</th>\n",
       "      <td>-0.009036</td>\n",
       "      <td>0.107264</td>\n",
       "      <td>0.500800</td>\n",
       "      <td>0.521037</td>\n",
       "      <td>0.511066</td>\n",
       "      <td>0.133748</td>\n",
       "      <td>-0.039709</td>\n",
       "      <td>0.006481</td>\n",
       "      <td>-0.148024</td>\n",
       "      <td>0.000830</td>\n",
       "      <td>0.506751</td>\n",
       "      <td>1.000000</td>\n",
       "      <td>0.354096</td>\n",
       "      <td>0.036880</td>\n",
       "      <td>-0.014027</td>\n",
       "    </tr>\n",
       "    <tr>\n",
       "      <th>avg_daily_mla</th>\n",
       "      <td>-0.090222</td>\n",
       "      <td>0.208162</td>\n",
       "      <td>0.698983</td>\n",
       "      <td>0.697249</td>\n",
       "      <td>0.707812</td>\n",
       "      <td>0.437531</td>\n",
       "      <td>0.056201</td>\n",
       "      <td>-0.104326</td>\n",
       "      <td>-0.014344</td>\n",
       "      <td>-0.027977</td>\n",
       "      <td>0.706801</td>\n",
       "      <td>0.354096</td>\n",
       "      <td>1.000000</td>\n",
       "      <td>0.170191</td>\n",
       "      <td>0.096445</td>\n",
       "    </tr>\n",
       "    <tr>\n",
       "      <th>avg_daily_upgrade</th>\n",
       "      <td>0.025734</td>\n",
       "      <td>-0.046295</td>\n",
       "      <td>0.185708</td>\n",
       "      <td>0.237598</td>\n",
       "      <td>0.207082</td>\n",
       "      <td>0.068698</td>\n",
       "      <td>0.053120</td>\n",
       "      <td>0.029700</td>\n",
       "      <td>0.044175</td>\n",
       "      <td>0.075370</td>\n",
       "      <td>0.195499</td>\n",
       "      <td>0.036880</td>\n",
       "      <td>0.170191</td>\n",
       "      <td>1.000000</td>\n",
       "      <td>0.363411</td>\n",
       "    </tr>\n",
       "    <tr>\n",
       "      <th>avg_daily_downgrade</th>\n",
       "      <td>-0.099705</td>\n",
       "      <td>0.123860</td>\n",
       "      <td>0.092204</td>\n",
       "      <td>0.084315</td>\n",
       "      <td>0.091519</td>\n",
       "      <td>-0.009833</td>\n",
       "      <td>-0.043124</td>\n",
       "      <td>0.079530</td>\n",
       "      <td>-0.057863</td>\n",
       "      <td>-0.017579</td>\n",
       "      <td>0.104362</td>\n",
       "      <td>-0.014027</td>\n",
       "      <td>0.096445</td>\n",
       "      <td>0.363411</td>\n",
       "      <td>1.000000</td>\n",
       "    </tr>\n",
       "  </tbody>\n",
       "</table>\n",
       "</div>"
      ],
      "text/plain": [
       "                               is_male  count_distinct_day  avg_daily_song  \\\n",
       "is_male                       1.000000           -0.175088       -0.109925   \n",
       "count_distinct_day           -0.175088            1.000000        0.387916   \n",
       "avg_daily_song               -0.109925            0.387916        1.000000   \n",
       "avg_daily_distinct_artist    -0.082143            0.103935        0.938745   \n",
       "avg_daily_distinct_song      -0.100566            0.296809        0.992862   \n",
       "avg_error_per_session        -0.052795            0.026031        0.327601   \n",
       "avg_thumbs_up_per_song       -0.019833            0.015876       -0.016492   \n",
       "avg_thumbs_down_per_song      0.058324           -0.013893       -0.102238   \n",
       "avg_add_to_playlist_per_song  0.053275            0.021697       -0.048415   \n",
       "Churn                         0.085340           -0.201330       -0.032635   \n",
       "avg_daily_login              -0.113692            0.380313        0.997538   \n",
       "avg_daily_mls                -0.009036            0.107264        0.500800   \n",
       "avg_daily_mla                -0.090222            0.208162        0.698983   \n",
       "avg_daily_upgrade             0.025734           -0.046295        0.185708   \n",
       "avg_daily_downgrade          -0.099705            0.123860        0.092204   \n",
       "\n",
       "                              avg_daily_distinct_artist  \\\n",
       "is_male                                       -0.082143   \n",
       "count_distinct_day                             0.103935   \n",
       "avg_daily_song                                 0.938745   \n",
       "avg_daily_distinct_artist                      1.000000   \n",
       "avg_daily_distinct_song                        0.972076   \n",
       "avg_error_per_session                          0.343086   \n",
       "avg_thumbs_up_per_song                        -0.007760   \n",
       "avg_thumbs_down_per_song                      -0.089466   \n",
       "avg_add_to_playlist_per_song                  -0.072098   \n",
       "Churn                                          0.012761   \n",
       "avg_daily_login                                0.941202   \n",
       "avg_daily_mls                                  0.521037   \n",
       "avg_daily_mla                                  0.697249   \n",
       "avg_daily_upgrade                              0.237598   \n",
       "avg_daily_downgrade                            0.084315   \n",
       "\n",
       "                              avg_daily_distinct_song  avg_error_per_session  \\\n",
       "is_male                                     -0.100566              -0.052795   \n",
       "count_distinct_day                           0.296809               0.026031   \n",
       "avg_daily_song                               0.992862               0.327601   \n",
       "avg_daily_distinct_artist                    0.972076               0.343086   \n",
       "avg_daily_distinct_song                      1.000000               0.339807   \n",
       "avg_error_per_session                        0.339807               1.000000   \n",
       "avg_thumbs_up_per_song                      -0.015814               0.024509   \n",
       "avg_thumbs_down_per_song                    -0.099372              -0.025694   \n",
       "avg_add_to_playlist_per_song                -0.056134              -0.024197   \n",
       "Churn                                       -0.017212              -0.085563   \n",
       "avg_daily_login                              0.991601               0.338381   \n",
       "avg_daily_mls                                0.511066               0.133748   \n",
       "avg_daily_mla                                0.707812               0.437531   \n",
       "avg_daily_upgrade                            0.207082               0.068698   \n",
       "avg_daily_downgrade                          0.091519              -0.009833   \n",
       "\n",
       "                              avg_thumbs_up_per_song  \\\n",
       "is_male                                    -0.019833   \n",
       "count_distinct_day                          0.015876   \n",
       "avg_daily_song                             -0.016492   \n",
       "avg_daily_distinct_artist                  -0.007760   \n",
       "avg_daily_distinct_song                    -0.015814   \n",
       "avg_error_per_session                       0.024509   \n",
       "avg_thumbs_up_per_song                      1.000000   \n",
       "avg_thumbs_down_per_song                   -0.084097   \n",
       "avg_add_to_playlist_per_song               -0.086859   \n",
       "Churn                                      -0.026816   \n",
       "avg_daily_login                             0.001976   \n",
       "avg_daily_mls                              -0.039709   \n",
       "avg_daily_mla                               0.056201   \n",
       "avg_daily_upgrade                           0.053120   \n",
       "avg_daily_downgrade                        -0.043124   \n",
       "\n",
       "                              avg_thumbs_down_per_song  \\\n",
       "is_male                                       0.058324   \n",
       "count_distinct_day                           -0.013893   \n",
       "avg_daily_song                               -0.102238   \n",
       "avg_daily_distinct_artist                    -0.089466   \n",
       "avg_daily_distinct_song                      -0.099372   \n",
       "avg_error_per_session                        -0.025694   \n",
       "avg_thumbs_up_per_song                       -0.084097   \n",
       "avg_thumbs_down_per_song                      1.000000   \n",
       "avg_add_to_playlist_per_song                  0.347583   \n",
       "Churn                                         0.286773   \n",
       "avg_daily_login                              -0.076039   \n",
       "avg_daily_mls                                 0.006481   \n",
       "avg_daily_mla                                -0.104326   \n",
       "avg_daily_upgrade                             0.029700   \n",
       "avg_daily_downgrade                           0.079530   \n",
       "\n",
       "                              avg_add_to_playlist_per_song     Churn  \\\n",
       "is_male                                           0.053275  0.085340   \n",
       "count_distinct_day                                0.021697 -0.201330   \n",
       "avg_daily_song                                   -0.048415 -0.032635   \n",
       "avg_daily_distinct_artist                        -0.072098  0.012761   \n",
       "avg_daily_distinct_song                          -0.056134 -0.017212   \n",
       "avg_error_per_session                            -0.024197 -0.085563   \n",
       "avg_thumbs_up_per_song                           -0.086859 -0.026816   \n",
       "avg_thumbs_down_per_song                          0.347583  0.286773   \n",
       "avg_add_to_playlist_per_song                      1.000000  0.090871   \n",
       "Churn                                             0.090871  1.000000   \n",
       "avg_daily_login                                  -0.039142 -0.014697   \n",
       "avg_daily_mls                                    -0.148024  0.000830   \n",
       "avg_daily_mla                                    -0.014344 -0.027977   \n",
       "avg_daily_upgrade                                 0.044175  0.075370   \n",
       "avg_daily_downgrade                              -0.057863 -0.017579   \n",
       "\n",
       "                              avg_daily_login  avg_daily_mls  avg_daily_mla  \\\n",
       "is_male                             -0.113692      -0.009036      -0.090222   \n",
       "count_distinct_day                   0.380313       0.107264       0.208162   \n",
       "avg_daily_song                       0.997538       0.500800       0.698983   \n",
       "avg_daily_distinct_artist            0.941202       0.521037       0.697249   \n",
       "avg_daily_distinct_song              0.991601       0.511066       0.707812   \n",
       "avg_error_per_session                0.338381       0.133748       0.437531   \n",
       "avg_thumbs_up_per_song               0.001976      -0.039709       0.056201   \n",
       "avg_thumbs_down_per_song            -0.076039       0.006481      -0.104326   \n",
       "avg_add_to_playlist_per_song        -0.039142      -0.148024      -0.014344   \n",
       "Churn                               -0.014697       0.000830      -0.027977   \n",
       "avg_daily_login                      1.000000       0.506751       0.706801   \n",
       "avg_daily_mls                        0.506751       1.000000       0.354096   \n",
       "avg_daily_mla                        0.706801       0.354096       1.000000   \n",
       "avg_daily_upgrade                    0.195499       0.036880       0.170191   \n",
       "avg_daily_downgrade                  0.104362      -0.014027       0.096445   \n",
       "\n",
       "                              avg_daily_upgrade  avg_daily_downgrade  \n",
       "is_male                                0.025734            -0.099705  \n",
       "count_distinct_day                    -0.046295             0.123860  \n",
       "avg_daily_song                         0.185708             0.092204  \n",
       "avg_daily_distinct_artist              0.237598             0.084315  \n",
       "avg_daily_distinct_song                0.207082             0.091519  \n",
       "avg_error_per_session                  0.068698            -0.009833  \n",
       "avg_thumbs_up_per_song                 0.053120            -0.043124  \n",
       "avg_thumbs_down_per_song               0.029700             0.079530  \n",
       "avg_add_to_playlist_per_song           0.044175            -0.057863  \n",
       "Churn                                  0.075370            -0.017579  \n",
       "avg_daily_login                        0.195499             0.104362  \n",
       "avg_daily_mls                          0.036880            -0.014027  \n",
       "avg_daily_mla                          0.170191             0.096445  \n",
       "avg_daily_upgrade                      1.000000             0.363411  \n",
       "avg_daily_downgrade                    0.363411             1.000000  "
      ]
     },
     "execution_count": 223,
     "metadata": {},
     "output_type": "execute_result"
    }
   ],
   "source": [
    "#correlation matrix of features\n",
    "user_log_model_df.drop(axis=1, columns=[\"userId\"]).corr()"
   ]
  },
  {
   "cell_type": "code",
   "execution_count": 224,
   "metadata": {},
   "outputs": [
    {
     "data": {
      "text/plain": [
       "0.2311111111111111"
      ]
     },
     "execution_count": 224,
     "metadata": {},
     "output_type": "execute_result"
    }
   ],
   "source": [
    "# churn rate of all users: 23%\n",
    "churn_rate_of_all_users = user_log_model_df.loc[user_log_model_df[\"Churn\"]==1].shape[0] / user_log_model_df.shape[0]\n",
    "churn_rate_of_all_users"
   ]
  },
  {
   "cell_type": "code",
   "execution_count": 164,
   "metadata": {},
   "outputs": [
    {
     "data": {
      "text/plain": [
       "0.19230769230769232"
      ]
     },
     "execution_count": 164,
     "metadata": {},
     "output_type": "execute_result"
    }
   ],
   "source": [
    "churn_rate_of_women = user_log_model_df.loc[(user_log_model_df[\"is_male\"]==0) & (user_log_model_df[\"Churn\"]==1)].shape[0] / user_log_model_df.loc[user_log_model_df[\"is_male\"]==0].shape[0]\n",
    "churn_rate_of_women"
   ]
  },
  {
   "cell_type": "code",
   "execution_count": 165,
   "metadata": {},
   "outputs": [
    {
     "data": {
      "text/plain": [
       "0.2644628099173554"
      ]
     },
     "execution_count": 165,
     "metadata": {},
     "output_type": "execute_result"
    }
   ],
   "source": [
    "churn_rate_of_men = user_log_model_df.loc[(user_log_model_df[\"is_male\"]==1) & (user_log_model_df[\"Churn\"]==1)].shape[0] / user_log_model_df.loc[user_log_model_df[\"is_male\"]==1].shape[0]\n",
    "churn_rate_of_men"
   ]
  },
  {
   "cell_type": "code",
   "execution_count": null,
   "metadata": {},
   "outputs": [],
   "source": [
    "x = np.random.rand(120)\n",
    "df = pd.DataFrame({\"x\":x})\n",
    "\n",
    "bins= [0,0.35,0.7,1]\n",
    "plt.hist(df.values, bins=bins, edgecolor=\"k\")\n",
    "plt.xticks(bins)\n",
    "\n",
    "plt.show()"
   ]
  },
  {
   "cell_type": "code",
   "execution_count": null,
   "metadata": {},
   "outputs": [],
   "source": [
    "df = df.groupby(['category']).filter(lambda x: len(x) >= 5)\n",
    "\n",
    "group = df.groupby(['category'])['active_seconds'].sum().reset_index(name='count_sec_target')\n",
    "print (group)\n",
    "      category  count_sec_target\n",
    "0  Automobiles               233\n",
    "1    Computers                47"
   ]
  },
  {
   "cell_type": "code",
   "execution_count": 225,
   "metadata": {},
   "outputs": [
    {
     "data": {
      "text/plain": [
       "<matplotlib.axes._subplots.AxesSubplot at 0x7f9372ffff60>"
      ]
     },
     "execution_count": 225,
     "metadata": {},
     "output_type": "execute_result"
    },
    {
     "data": {
      "image/png": "[encoded data removed]",
      "text/plain": [
       "<matplotlib.figure.Figure at 0x7f936c261eb8>"
      ]
     },
     "metadata": {
      "needs_background": "light"
     },
     "output_type": "display_data"
    }
   ],
   "source": [
    "# when avg daily login count increases the churn (1.0 line at chart) gets sparse.\n",
    "user_log_model_df.plot.line(x='avg_daily_login', y='Churn', figsize=(8,6))"
   ]
  },
  {
   "cell_type": "code",
   "execution_count": 226,
   "metadata": {},
   "outputs": [
    {
     "data": {
      "text/plain": [
       "<matplotlib.axes._subplots.AxesSubplot at 0x7f9373290860>"
      ]
     },
     "execution_count": 226,
     "metadata": {},
     "output_type": "execute_result"
    },
    {
     "data": {
      "image/png": "[encoded data removed]",
      "text/plain": [
       "<matplotlib.figure.Figure at 0x7f937312a3c8>"
      ]
     },
     "metadata": {
      "needs_background": "light"
     },
     "output_type": "display_data"
    }
   ],
   "source": [
    "# when avg thumbs up per song >= 0.08 (approximately), the churn rate decreases \n",
    "user_log_model_df.plot.scatter(x='avg_thumbs_up_per_song', y='Churn', figsize=(8,6))"
   ]
  },
  {
   "cell_type": "code",
   "execution_count": 227,
   "metadata": {},
   "outputs": [
    {
     "data": {
      "text/plain": [
       "<matplotlib.axes._subplots.AxesSubplot at 0x7f9373222f60>"
      ]
     },
     "execution_count": 227,
     "metadata": {},
     "output_type": "execute_result"
    },
    {
     "data": {
      "image/png": "[encoded data removed]",
      "text/plain": [
       "<matplotlib.figure.Figure at 0x7f936c888eb8>"
      ]
     },
     "metadata": {
      "needs_background": "light"
     },
     "output_type": "display_data"
    }
   ],
   "source": [
    "# when avg thumbs down per song >= 0.02 (approximately), the churn rate increases \n",
    "user_log_model_df.plot.scatter(x='avg_thumbs_down_per_song', y='Churn', figsize=(8,6))"
   ]
  },
  {
   "cell_type": "code",
   "execution_count": 228,
   "metadata": {},
   "outputs": [
    {
     "data": {
      "text/plain": [
       "<matplotlib.axes._subplots.AxesSubplot at 0x7f936c21b6d8>"
      ]
     },
     "execution_count": 228,
     "metadata": {},
     "output_type": "execute_result"
    },
    {
     "data": {
      "image/png": "[encoded data removed]",
      "text/plain": [
       "<matplotlib.figure.Figure at 0x7f93730c11d0>"
      ]
     },
     "metadata": {
      "needs_background": "light"
     },
     "output_type": "display_data"
    }
   ],
   "source": [
    "# the increment at avg_error_per_session, increases churn rate.\n",
    "user_log_model_df.plot.scatter(x='avg_error_per_session', y='Churn', figsize=(8,6))"
   ]
  },
  {
   "cell_type": "code",
   "execution_count": 229,
   "metadata": {},
   "outputs": [
    {
     "data": {
      "text/plain": [
       "<matplotlib.axes._subplots.AxesSubplot at 0x7f936c164cc0>"
      ]
     },
     "execution_count": 229,
     "metadata": {},
     "output_type": "execute_result"
    },
    {
     "data": {
      "image/png": "[encoded data removed]",
      "text/plain": [
       "<matplotlib.figure.Figure at 0x7f936c1b5518>"
      ]
     },
     "metadata": {
      "needs_background": "light"
     },
     "output_type": "display_data"
    }
   ],
   "source": [
    "# it shows that taking error does not cause thumbs down.\n",
    "user_log_model_df.plot.scatter(x='avg_error_per_session', y='avg_thumbs_down_per_song', figsize=(8,6))"
   ]
  },
  {
   "cell_type": "code",
   "execution_count": 230,
   "metadata": {},
   "outputs": [
    {
     "data": {
      "text/plain": [
       "<matplotlib.axes._subplots.AxesSubplot at 0x7f936c16ea58>"
      ]
     },
     "execution_count": 230,
     "metadata": {},
     "output_type": "execute_result"
    },
    {
     "data": {
      "image/png": "[encoded data removed]",
      "text/plain": [
       "<matplotlib.figure.Figure at 0x7f936c187860>"
      ]
     },
     "metadata": {
      "needs_background": "light"
     },
     "output_type": "display_data"
    }
   ],
   "source": [
    "# users with higher listeners are less tend to churn.\n",
    "user_log_model_df.plot.scatter(x='avg_daily_song', y='Churn', figsize=(8,6))"
   ]
  },
  {
   "cell_type": "code",
   "execution_count": 231,
   "metadata": {},
   "outputs": [],
   "source": [
    "songs_in_hour = user_log.filter(user_log.page == \"NextSong\").groupby(user_log.hourr).count().orderBy(user_log.hourr.cast(\"float\"))"
   ]
  },
  {
   "cell_type": "code",
   "execution_count": 232,
   "metadata": {
    "collapsed": true
   },
   "outputs": [
    {
     "name": "stdout",
     "output_type": "stream",
     "text": [
      "+-----+-----+\n",
      "|hourr|count|\n",
      "+-----+-----+\n",
      "|    0| 9062|\n",
      "|    1| 8388|\n",
      "|    2| 8336|\n",
      "|    3| 8355|\n",
      "|    4| 8147|\n",
      "|    5| 8178|\n",
      "|    6| 8054|\n",
      "|    7| 8091|\n",
      "|    8| 8253|\n",
      "|    9| 8498|\n",
      "|   10| 8882|\n",
      "|   11| 8830|\n",
      "|   12| 9326|\n",
      "|   13| 9644|\n",
      "|   14|10494|\n",
      "|   15|11354|\n",
      "|   16|11636|\n",
      "|   17|11460|\n",
      "|   18|11124|\n",
      "|   19|10930|\n",
      "|   20|10856|\n",
      "|   21|10458|\n",
      "|   22|10122|\n",
      "|   23| 9630|\n",
      "+-----+-----+\n",
      "\n"
     ]
    }
   ],
   "source": [
    "songs_in_hour.show(25)"
   ]
  },
  {
   "cell_type": "code",
   "execution_count": 233,
   "metadata": {},
   "outputs": [
    {
     "data": {
      "image/png": "[encoded data removed]",
      "text/plain": [
       "<matplotlib.figure.Figure at 0x7f936c0ba828>"
      ]
     },
     "metadata": {
      "needs_background": "light"
     },
     "output_type": "display_data"
    }
   ],
   "source": [
    "# song counts per hour\n",
    "songs_in_hour_pd = songs_in_hour.toPandas()\n",
    "songs_in_hour_pd.hourr = pd.to_numeric(songs_in_hour_pd.hourr)\n",
    "\n",
    "plt.scatter(songs_in_hour_pd[\"hourr\"], songs_in_hour_pd[\"count\"])\n",
    "plt.xlim(-1, 24);\n",
    "plt.ylim(0, 1.2 * max(songs_in_hour_pd[\"count\"]))\n",
    "plt.xlabel(\"Hour\")\n",
    "plt.ylabel(\"Songs played\");"
   ]
  },
  {
   "cell_type": "code",
   "execution_count": null,
   "metadata": {},
   "outputs": [],
   "source": []
  },
  {
   "cell_type": "markdown",
   "metadata": {},
   "source": [
    "# Modeling\n",
    "Split the full dataset into train, test, and validation sets. Test out several of the machine learning methods you learned. Evaluate the accuracy of the various models, tuning parameters as necessary. Determine your winning model based on test accuracy and report results on the validation set. Since the churned users are a fairly small subset, I suggest using F1 score as the metric to optimize."
   ]
  },
  {
   "cell_type": "code",
   "execution_count": 123,
   "metadata": {},
   "outputs": [],
   "source": [
    "from pyspark.ml.classification import LogisticRegression, GBTClassifier, LinearSVC, RandomForestClassifier\n",
    "from pyspark.ml import Pipeline\n",
    "from pyspark.ml.feature import Normalizer, StandardScaler \n",
    "from pyspark.ml.linalg import Vectors\n",
    "from pyspark.ml.tuning import CrossValidator, ParamGridBuilder\n",
    "from pyspark.ml.feature import StringIndexer, OneHotEncoderEstimator, VectorAssembler\n",
    "from pyspark.ml.evaluation import BinaryClassificationEvaluator, MulticlassClassificationEvaluator\n",
    "from pyspark.mllib.evaluation import BinaryClassificationMetrics, MulticlassMetrics, MultilabelMetrics\n",
    "\n",
    "import re"
   ]
  },
  {
   "cell_type": "code",
   "execution_count": 125,
   "metadata": {},
   "outputs": [
    {
     "name": "stdout",
     "output_type": "stream",
     "text": [
      "['is_male', 'count_distinct_day', 'avg_daily_song', 'avg_daily_distinct_artist', 'avg_daily_distinct_song', 'avg_error_per_session', 'avg_thumbs_up_per_song', 'avg_thumbs_down_per_song', 'avg_add_to_playlist_per_song', 'avg_daily_login', 'avg_daily_mls', 'avg_daily_mla', 'avg_daily_upgrade', 'avg_daily_downgrade']\n",
      "-----------\n",
      "Churn\n"
     ]
    }
   ],
   "source": [
    "# creating train_cols and target_col(label)\n",
    "train_cols = [el for el in columns if el not in (\"userId\", \"Churn\")]\n",
    "target_col = \"Churn\"\n",
    "print(train_cols)\n",
    "print(\"-----------\")\n",
    "print(target_col)"
   ]
  },
  {
   "cell_type": "code",
   "execution_count": null,
   "metadata": {},
   "outputs": [],
   "source": []
  },
  {
   "cell_type": "markdown",
   "metadata": {},
   "source": [
    "## Transformation Pipeline"
   ]
  },
  {
   "cell_type": "code",
   "execution_count": 129,
   "metadata": {},
   "outputs": [],
   "source": [
    "def generate_preprocessor(user_log_model, train_cols):\n",
    "    '''\n",
    "    pipeline for data transformation.\n",
    "    user_log_model: the dataframe\n",
    "    train_cols: the columns for training data\n",
    "    '''\n",
    "    # vectorization\n",
    "    assembler = VectorAssembler(inputCols=train_cols, outputCol=\"_features\")\n",
    "    \n",
    "    # Standardize Features\n",
    "    scaler = StandardScaler(inputCol=\"_features\", \n",
    "                            outputCol='features', \n",
    "                            withStd=True, withMean=False)\n",
    "\n",
    "    preprocessor = Pipeline(stages = [assembler, scaler]).fit(user_log_model)\n",
    "\n",
    "    return preprocessor"
   ]
  },
  {
   "cell_type": "code",
   "execution_count": 202,
   "metadata": {},
   "outputs": [],
   "source": [
    "# creating preprocessed data\n",
    "preprocessor = generate_preprocessor(user_log_model, train_cols)   \n",
    "user_log_model_transformed = preprocessor.transform(user_log_model) \n",
    "user_log_model_transformed = user_log_model_transformed.select(col(\"Churn\").alias(\"label\"), col(\"features\"))"
   ]
  },
  {
   "cell_type": "code",
   "execution_count": 210,
   "metadata": {},
   "outputs": [],
   "source": [
    "#train_data, test_data = user_log_model_transformed.randomSplit([0.8, 0.2], seed=42)\n",
    "train_data, rest_data = user_log_model_transformed.randomSplit([0.6, 0.4], seed=42)\n",
    "test_data, validation_data = rest_data.randomSplit([0.5, 0.5], seed=42)"
   ]
  },
  {
   "cell_type": "markdown",
   "metadata": {},
   "source": [
    "## Defining Algrithms, Fitting & Predicting"
   ]
  },
  {
   "cell_type": "code",
   "execution_count": 132,
   "metadata": {},
   "outputs": [],
   "source": [
    "#defining classification algorithms (logistic reg, randomforest, gradientboostingtree)\n",
    "lgr =  LogisticRegression(maxIter=5, regParam=0.0, elasticNetParam=0)\n",
    "rf = RandomForestClassifier(labelCol=\"label\", featuresCol=\"features\", numTrees=10)\n",
    "gbt = GBTClassifier(labelCol=\"label\", featuresCol=\"features\", maxIter=10)"
   ]
  },
  {
   "cell_type": "code",
   "execution_count": 220,
   "metadata": {},
   "outputs": [],
   "source": [
    "def fit_predict_the_algorithm(algorithm, train_data, test_data):\n",
    "    model = algorithm.fit(train_data)\n",
    "    predictions = model.transform(test_data)\n",
    "    #evaluator = MulticlassClassificationEvaluator(\n",
    "    #                labelCol=\"label\", predictionCol=\"prediction\", metricName=\"f1\")\n",
    "    evaluator = MulticlassClassificationEvaluator()\n",
    "    #f1_score = evaluator.evaluate(predictions)\n",
    "    f1_score1 = evaluator.evaluate(predictions,{evaluator.metricName: \"f1\"})\n",
    "    accuracy1 = evaluator.evaluate(predictions,{evaluator.metricName: \"accuracy\"})\n",
    "\n",
    "    #print(\"f1 score: \", f1_score)\n",
    "    print(\"f1 score1: \", f1_score1)\n",
    "    print(\"accuracy1: \", accuracy1)\n",
    "    \n",
    "    return predictions"
   ]
  },
  {
   "cell_type": "code",
   "execution_count": 221,
   "metadata": {},
   "outputs": [
    {
     "name": "stdout",
     "output_type": "stream",
     "text": [
      "f1 score1:  0.5838509316770186\n",
      "accuracy1:  0.6666666666666666\n"
     ]
    }
   ],
   "source": [
    "predictions_lgr = fit_predict_the_algorithm(lgr, train_data, test_data)"
   ]
  },
  {
   "cell_type": "code",
   "execution_count": 212,
   "metadata": {},
   "outputs": [
    {
     "name": "stdout",
     "output_type": "stream",
     "text": [
      "f1 score1:  0.44999999999999996\n",
      "accuracy1:  0.6\n"
     ]
    }
   ],
   "source": [
    "predictions_rf = fit_predict_the_algorithm(rf, train_data, test_data)"
   ]
  },
  {
   "cell_type": "code",
   "execution_count": 213,
   "metadata": {},
   "outputs": [
    {
     "name": "stdout",
     "output_type": "stream",
     "text": [
      "f1 score1:  0.34285714285714286\n",
      "accuracy1:  0.4\n"
     ]
    }
   ],
   "source": [
    "predictions_gbt = fit_predict_the_algorithm(gbt, train_data, test_data)"
   ]
  },
  {
   "cell_type": "code",
   "execution_count": null,
   "metadata": {},
   "outputs": [],
   "source": []
  },
  {
   "cell_type": "markdown",
   "metadata": {},
   "source": [
    "## Model Tuning"
   ]
  },
  {
   "cell_type": "code",
   "execution_count": 147,
   "metadata": {},
   "outputs": [],
   "source": [
    "def apply_cross_val(algorithm, user_log_model_transformed, train_data, validation_data):\n",
    "    evaluator = MulticlassClassificationEvaluator()\n",
    "    crossval = CrossValidator(estimator=algorithm,\n",
    "                          #estimatorParamMaps=paramGrid,\n",
    "                          estimatorParamMaps= ParamGridBuilder() \\\n",
    "                                                .addGrid(lgr.regParam,[0.0, 0.1]) \\\n",
    "                                                .build(),\n",
    "                          evaluator=evaluator,\n",
    "                          numFolds=3)\n",
    "    model = crossval.fit(user_log_model_transformed)\n",
    "    model.avgMetrics\n",
    "    predictions = model.transform(validation_data)\n",
    "    #f1_score = evaluator.evaluate(predictions)\n",
    "    f1_score1 = evaluator.evaluate(predictions,{evaluator.metricName: \"f1\"})\n",
    "    accuracy1 = evaluator.evaluate(predictions,{evaluator.metricName: \"accuracy\"})\n",
    "\n",
    "    print(\"f1 score1: \", f1_score1)\n",
    "    print(\"accuracy1: \", accuracy1)\n",
    "    print(\"---------\")\n",
    "    print(\"predicted: \", predictions.filter(predictions.label == predictions.prediction).count())\n",
    "    print(\"total prediction: \", predictions.count())\n",
    "    #print(\"accuracy= \", predictions.filter(predictions.label == predictions.prediction).count()/ predictions.count())\n",
    "    return model, evaluator"
   ]
  },
  {
   "cell_type": "code",
   "execution_count": 217,
   "metadata": {},
   "outputs": [
    {
     "name": "stdout",
     "output_type": "stream",
     "text": [
      "f1 score1:  0.6485207100591717\n",
      "accuracy1:  0.717948717948718\n",
      "---------\n",
      "56\n",
      "78\n"
     ]
    }
   ],
   "source": [
    "lgr_cv_model, lgr_cv_eval = apply_cross_val(lgr, user_log_model_transformed, train_data, validation_data)"
   ]
  },
  {
   "cell_type": "code",
   "execution_count": 218,
   "metadata": {},
   "outputs": [
    {
     "name": "stdout",
     "output_type": "stream",
     "text": [
      "f1 score1:  0.8449030644152594\n",
      "accuracy1:  0.8589743589743589\n",
      "---------\n",
      "67\n",
      "78\n"
     ]
    }
   ],
   "source": [
    "rf_cv_model, rf_cv_eval = apply_cross_val(rf, user_log_model_transformed, train_data, validation_data)"
   ]
  },
  {
   "cell_type": "code",
   "execution_count": 219,
   "metadata": {},
   "outputs": [
    {
     "name": "stdout",
     "output_type": "stream",
     "text": [
      "f1 score1:  0.9739389920424404\n",
      "accuracy1:  0.9743589743589743\n",
      "---------\n",
      "76\n",
      "78\n"
     ]
    }
   ],
   "source": [
    "gbt_cv_model, gbt_cv_eval = apply_cross_val(gbt, user_log_model_transformed, train_data, validation_data)"
   ]
  },
  {
   "cell_type": "markdown",
   "metadata": {},
   "source": [
    "### The f1 score of Logistic Regression, Random Forest Classifier and Gradient Boosted Tree Classifier are 0.58, 0.45, 0.34 respectively.\n",
    "### When we applied cross validation, the result changed a lot; f1 score of Gradient Boosted Tree Classifier became 0,97 which is the highest in them (although GBT was the worst of them before cross validation). So I chose gbt_cv_model."
   ]
  },
  {
   "cell_type": "code",
   "execution_count": null,
   "metadata": {},
   "outputs": [],
   "source": []
  },
  {
   "cell_type": "markdown",
   "metadata": {},
   "source": [
    "# Final Steps\n",
    "Clean up your code, adding comments and renaming variables to make the code easier to read and maintain. Refer to the Spark Project Overview page and Data Scientist Capstone Project Rubric to make sure you are including all components of the capstone project and meet all expectations. Remember, this includes thorough documentation in a README file in a Github repository, as well as a web app or blog post."
   ]
  },
  {
   "cell_type": "code",
   "execution_count": null,
   "metadata": {},
   "outputs": [],
   "source": []
  }
 ],
 "metadata": {
  "kernelspec": {
   "display_name": "Python 3",
   "language": "python",
   "name": "python3"
  },
  "language_info": {
   "codemirror_mode": {
    "name": "ipython",
    "version": 3
   },
   "file_extension": ".py",
   "mimetype": "text/x-python",
   "name": "python",
   "nbconvert_exporter": "python",
   "pygments_lexer": "ipython3",
   "version": "3.6.3"
  }
 },
 "nbformat": 4,
 "nbformat_minor": 2
}
